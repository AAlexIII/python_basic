{
 "cells": [
  {
   "cell_type": "markdown",
   "metadata": {},
   "source": [
    "### Собираем статистику\n",
    "\n",
    "Сколько в среднем в месяц публикуется записей."
   ]
  },
  {
   "cell_type": "code",
   "execution_count": 22,
   "metadata": {},
   "outputs": [
    {
     "name": "stdout",
     "output_type": "stream",
     "text": [
      "['Дата', 'Создатель записи', 'Запись', 'Ссылка', 'Охват подписчиков', 'Виральный охват', 'Рекламный охват', 'Полный охват', 'Нравится', 'Поделились', 'Комментариев', 'Скрыли запись', 'Жалобы', 'Скрыли все записи', 'Переходы в сообщество', 'Подписались на страницу', 'Переходы по ссылке']\n"
     ]
    }
   ],
   "source": [
    "import csv\n",
    "\n",
    "with open(\"data/vk_group_reach.stat\") as csvfile:\n",
    "    stat = csv.reader(csvfile)\n",
    "    for row in stat:\n",
    "        print(row)        \n",
    "        break    "
   ]
  },
  {
   "cell_type": "code",
   "execution_count": 23,
   "metadata": {},
   "outputs": [
    {
     "name": "stdout",
     "output_type": "stream",
     "text": [
      "0 Дата\n",
      "1 Создатель записи\n",
      "2 Запись\n",
      "3 Ссылка\n",
      "4 Охват подписчиков\n",
      "5 Виральный охват\n",
      "6 Рекламный охват\n",
      "7 Полный охват\n",
      "8 Нравится\n",
      "9 Поделились\n",
      "10 Комментариев\n",
      "11 Скрыли запись\n",
      "12 Жалобы\n",
      "13 Скрыли все записи\n",
      "14 Переходы в сообщество\n",
      "15 Подписались на страницу\n",
      "16 Переходы по ссылке\n"
     ]
    }
   ],
   "source": [
    "import csv\n",
    "\n",
    "with open(\"data/vk_group_reach.stat\") as csvfile:\n",
    "    stat = csv.reader(csvfile)\n",
    "    for row in stat:               \n",
    "        for i, item in enumerate(row):\n",
    "            print(i, item)\n",
    "        break"
   ]
  },
  {
   "cell_type": "code",
   "execution_count": 24,
   "metadata": {},
   "outputs": [
    {
     "name": "stdout",
     "output_type": "stream",
     "text": [
      "['2020-02-08 14:20', 'Дима Федоров (https://vk.com/id543042642)', 'Вопрос возник в связи с началом нов...', 'https://vk.com/wall-181854671_54', '108', '137', '0', '228', '1', '0', '2', '0', '0', '0', '5', '0', '1']\n"
     ]
    }
   ],
   "source": [
    "import csv\n",
    "\n",
    "note = list()\n",
    "\n",
    "with open(\"data/vk_group_reach.stat\") as csvfile:\n",
    "    stat = csv.reader(csvfile)\n",
    "    for row in stat:\n",
    "        if row[0] == 'Дата':\n",
    "            continue\n",
    "        else:            \n",
    "            print(row)     \n",
    "            break"
   ]
  },
  {
   "cell_type": "code",
   "execution_count": 25,
   "metadata": {},
   "outputs": [
    {
     "name": "stdout",
     "output_type": "stream",
     "text": [
      "['02', '12', '12', '11', '11', '10', '10', '10', '10', '10', '09', '09', '09', '09', '09', '09', '09', '08', '08', '08', '08', '08', '08', '08', '08', '06', '05', '05', '05', '05', '05', '05', '05', '05', '05', '05', '05', '05']\n"
     ]
    }
   ],
   "source": [
    "import csv\n",
    "\n",
    "note = list()\n",
    "\n",
    "with open(\"data/vk_group_reach.stat\") as csvfile:\n",
    "    stat = csv.reader(csvfile)\n",
    "    for row in stat:\n",
    "        if row[0] == 'Дата':\n",
    "            continue\n",
    "        else:            \n",
    "            #print(row[0].split('-')[1])  \n",
    "            note.append(row[0].split('-')[1])\n",
    "print(note)"
   ]
  },
  {
   "cell_type": "code",
   "execution_count": 26,
   "metadata": {},
   "outputs": [
    {
     "data": {
      "text/plain": [
       "{'02': 1, '12': 2, '11': 2, '10': 5, '09': 7, '08': 8, '06': 1, '05': 12}"
      ]
     },
     "execution_count": 26,
     "metadata": {},
     "output_type": "execute_result"
    }
   ],
   "source": [
    "import collections\n",
    "\n",
    "count = collections.Counter(note)\n",
    "dict(count)"
   ]
  },
  {
   "cell_type": "code",
   "execution_count": 27,
   "metadata": {},
   "outputs": [
    {
     "data": {
      "text/plain": [
       "['02', '12', '11', '10', '09', '08', '06', '05']"
      ]
     },
     "execution_count": 27,
     "metadata": {},
     "output_type": "execute_result"
    }
   ],
   "source": [
    "list(dict(count).keys())"
   ]
  },
  {
   "cell_type": "code",
   "execution_count": 28,
   "metadata": {},
   "outputs": [
    {
     "data": {
      "text/plain": [
       "8"
      ]
     },
     "execution_count": 28,
     "metadata": {},
     "output_type": "execute_result"
    }
   ],
   "source": [
    "len(list(dict(count).keys()))"
   ]
  },
  {
   "cell_type": "code",
   "execution_count": 29,
   "metadata": {},
   "outputs": [
    {
     "data": {
      "text/plain": [
       "[1, 2, 2, 5, 7, 8, 1, 12]"
      ]
     },
     "execution_count": 29,
     "metadata": {},
     "output_type": "execute_result"
    }
   ],
   "source": [
    "list(dict(count).values())"
   ]
  },
  {
   "cell_type": "code",
   "execution_count": 30,
   "metadata": {},
   "outputs": [
    {
     "name": "stdout",
     "output_type": "stream",
     "text": [
      "0.125\n",
      "0.25\n",
      "0.25\n",
      "0.625\n",
      "0.875\n",
      "1.0\n",
      "0.125\n",
      "1.5\n"
     ]
    }
   ],
   "source": [
    "for i in list(dict(count).values()):\n",
    "    print(i/len(list(dict(count).keys())))"
   ]
  },
  {
   "cell_type": "code",
   "execution_count": null,
   "metadata": {},
   "outputs": [],
   "source": []
  }
 ],
 "metadata": {
  "kernelspec": {
   "display_name": "Python 3",
   "language": "python",
   "name": "python3"
  },
  "language_info": {
   "codemirror_mode": {
    "name": "ipython",
    "version": 3
   },
   "file_extension": ".py",
   "mimetype": "text/x-python",
   "name": "python",
   "nbconvert_exporter": "python",
   "pygments_lexer": "ipython3",
   "version": "3.7.3"
  }
 },
 "nbformat": 4,
 "nbformat_minor": 4
}
