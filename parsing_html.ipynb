{
 "cells": [
  {
   "cell_type": "markdown",
   "metadata": {},
   "source": [
    "<a href=\"https://colab.research.google.com/github.com/dm-fedorov/python_basic/blob/master/parsing_html.ipynb\" target=\"_blank\"><img align=\"left\" src=\"https://colab.research.google.com/assets/colab-badge.svg\" alt=\"Open in Colab\" title=\"Open and Execute in Google Colaboratory\"></a>"
   ]
  },
  {
   "cell_type": "markdown",
   "metadata": {},
   "source": [
    "### Очистка данных"
   ]
  },
  {
   "cell_type": "code",
   "execution_count": 1,
   "metadata": {},
   "outputs": [
    {
     "name": "stderr",
     "output_type": "stream",
     "text": [
      "/home/dmf/anaconda3/lib/python3.7/site-packages/IPython/core/display.py:701: UserWarning: Consider using IPython.display.IFrame instead\n",
      "  warnings.warn(\"Consider using IPython.display.IFrame instead\")\n"
     ]
    },
    {
     "data": {
      "text/html": [
       "<iframe width=\"560\" height=\"315\" src=\"https://www.youtube.com/embed/v-rIM2YvTfA?rel=0&amp;controls=0&amp;showinfo=0\" frameborder=\"0\" allowfullscreen></iframe>"
      ],
      "text/plain": [
       "<IPython.core.display.HTML object>"
      ]
     },
     "metadata": {},
     "output_type": "display_data"
    }
   ],
   "source": [
    "from IPython.display import HTML\n",
    "\n",
    "# Youtube\n",
    "display(HTML('<iframe width=\"560\" height=\"315\" src=\"https://www.youtube.com/embed/v-rIM2YvTfA?rel=0&amp;controls=0&amp;showinfo=0\" frameborder=\"0\" allowfullscreen></iframe>'))"
   ]
  },
  {
   "cell_type": "code",
   "execution_count": 2,
   "metadata": {},
   "outputs": [],
   "source": [
    "def read_url(url):\n",
    "    \"\"\" Читает содержимое сайта по URL\"\"\"\n",
    "    import urllib.request    \n",
    "    with urllib.request.urlopen(url) as webpage:\n",
    "        text = webpage.read().decode('utf-8')\n",
    "    return text"
   ]
  },
  {
   "cell_type": "code",
   "execution_count": 3,
   "metadata": {},
   "outputs": [
    {
     "name": "stdout",
     "output_type": "stream",
     "text": [
      "<!DOCTYPE HTML PUBLIC \"-//IETF//DTD HTML//EN\">\n",
      "<html> <head>\n",
      "<title>Title</title>\n",
      "</head>\n",
      "\n",
      "<body>\n",
      "<h1>Heading 1</h1>\n",
      "\n",
      "This is plan text, and is boring\n",
      "<span class=\"special\">this is special</span>\n",
      "\n",
      "Here is a <a href=\"http://bitbucket.dev.null\">link</a>\n",
      "\n",
      "<hr>\n",
      "<address>Ann Address, Somewhere, AState 00000\n",
      "</address>\n",
      "</body> </html>\n",
      "\n"
     ]
    }
   ],
   "source": [
    "text = read_url(\"http://dfedorov.spb.ru/python3/test.html\")\n",
    "print(text)"
   ]
  },
  {
   "cell_type": "markdown",
   "metadata": {},
   "source": [
    "Как очистить текст от html-тегов?"
   ]
  },
  {
   "cell_type": "code",
   "execution_count": 4,
   "metadata": {},
   "outputs": [],
   "source": [
    "# импортируем Beautiful Soup\n",
    "import bs4"
   ]
  },
  {
   "cell_type": "code",
   "execution_count": 5,
   "metadata": {},
   "outputs": [],
   "source": [
    "# создадим парсер Beautiful Soup\n",
    "bs = bs4.BeautifulSoup(text, 'html.parser')"
   ]
  },
  {
   "cell_type": "code",
   "execution_count": 6,
   "metadata": {},
   "outputs": [
    {
     "name": "stdout",
     "output_type": "stream",
     "text": [
      "[<a href=\"http://bitbucket.dev.null\">link</a>]\n"
     ]
    }
   ],
   "source": [
    "# найдем все ссылки на странице:\n",
    "a_list = bs('a')\n",
    "print(a_list)"
   ]
  },
  {
   "cell_type": "code",
   "execution_count": 7,
   "metadata": {},
   "outputs": [
    {
     "data": {
      "text/plain": [
       "bs4.element.ResultSet"
      ]
     },
     "execution_count": 7,
     "metadata": {},
     "output_type": "execute_result"
    }
   ],
   "source": [
    "type(a_list)"
   ]
  },
  {
   "cell_type": "code",
   "execution_count": 8,
   "metadata": {},
   "outputs": [
    {
     "data": {
      "text/plain": [
       "'link'"
      ]
     },
     "execution_count": 8,
     "metadata": {},
     "output_type": "execute_result"
    }
   ],
   "source": [
    "# текст по ссылке:\n",
    "a_list[0].text"
   ]
  },
  {
   "cell_type": "code",
   "execution_count": 9,
   "metadata": {},
   "outputs": [
    {
     "data": {
      "text/plain": [
       "'http://bitbucket.dev.null'"
      ]
     },
     "execution_count": 9,
     "metadata": {},
     "output_type": "execute_result"
    }
   ],
   "source": [
    "# URL-адрес страницы по ссылке:\n",
    "a_list[0]['href']"
   ]
  },
  {
   "cell_type": "code",
   "execution_count": 10,
   "metadata": {},
   "outputs": [
    {
     "name": "stdout",
     "output_type": "stream",
     "text": [
      "[<span class=\"special\">this is special</span>]\n",
      "this is special\n",
      "['special']\n"
     ]
    }
   ],
   "source": [
    "# поиск всех элементов с классом CSS 'special':\n",
    "special_list = bs.select('.special')\n",
    "print(special_list)\n",
    "print(special_list[0].text)\n",
    "print(special_list[0]['class'])"
   ]
  },
  {
   "cell_type": "markdown",
   "metadata": {},
   "source": [
    "### Задание\n",
    "\n",
    "Для [файла](http://dfedorov.spb.ru/python3/forecast.html), расположенного в сети Интернет, напишите сценарий с использованием модуля [Beautiful Soup](https://www.crummy.com/software/BeautifulSoup/bs4/doc/), который извлекает данные и сохраняет их в файле формата CSV. "
   ]
  },
  {
   "cell_type": "code",
   "execution_count": 11,
   "metadata": {},
   "outputs": [
    {
     "name": "stdout",
     "output_type": "stream",
     "text": [
      "<html>\n",
      "  <body>\n",
      "    <div class=\"row row-forecast\">\n",
      "        <div class=\"forecast-label\"><b>Сегодня ночью</b></div>\n",
      "        <div class=\"forecast-text\">Небольшая вероятность ливней и гроз до 22:00. Облачно с прояснениями около 66. Ветер юго-западный около 9 миль в час. Вероятность осадков 20%. Возможны новые осадки от десятой до четверти дюйма.</div>\n",
      "    </div>\n",
      "    <div class=\"row row-forecast\">\n",
      "        <div class=\"forecast-label\"><b>Пятница</b></div>\n",
      "        <div class=\"forecast-text\">Местами солнечно. Высоко около 77, с температурами, падающими приблизительно к 75 днем. Северо-западный ветер от 7 до 12 миль в час, с порывами до 18 миль в час.</div>\n",
      "    </div>\n",
      "    <div class=\"row row-forecast\">\n",
      "        <div class=\"forecast-label\"><b>Ночь пятницы</b></div>\n",
      "        <div class=\"forecast-text\">Облачно с прояснениями около 63. Северный ветер от 7 до 10 миль в час.</div>\n",
      "    </div>\n",
      "    <div class=\"row row-forecast\">\n",
      "        <div class=\"forecast-label\"><b>Суббота</b></div>\n",
      "        <div class=\"forecast-text\">В основном солнечно, с высокой температурой около 73. Северный ветер около 10 миль в час.</div>\n",
      "    </div>\n",
      "    <div class=\"row row-forecast\">\n",
      "        <div class=\"forecast-label\"><b>Субботняя ночь</b></div>\n",
      "        <div class=\"forecast-text\">Облачно с прояснениями, около 63. Ветер северный, 5-10 миль в час.</div>\n",
      "    </div>\n",
      "    <div class=\"row row-forecast\">\n",
      "        <div class=\"forecast-label\"><b>Воскресенье</b></div>\n",
      "        <div class=\"forecast-text\">В основном солнечно, с высотой около 73.</div>\n",
      "    </div>\n",
      "    <div class=\"row row-forecast\">\n",
      "        <div class=\"forecast-label\"><b>Воскресный вечер</b></div>\n",
      "        <div class=\"forecast-text\">Облачно с прояснениями около 64.</div>\n",
      "    </div>\n",
      "    <div class=\"row row-forecast\">\n",
      "        <div class=\"forecast-label\"><b>Понедельник</b></div>\n",
      "        <div class=\"forecast-text\">Преимущественно солнечно, с высоким около 74.</div>\n",
      "    </div>\n",
      "    <div class=\"row row-forecast\">\n",
      "        <div class=\"forecast-label\"><b>Ночь понедельника</b></div>\n",
      "        <div class=\"forecast-text\">В основном ясно, с низким около 65.</div>\n",
      "    </div>\n",
      "    <div class=\"row row-forecast\">\n",
      "        <div class=\"forecast-label\"><b>Вторник</b></div>\n",
      "        <div class=\"forecast-text\">Солнечный, с высоким около 75.</div>\n",
      "    </div>\n",
      "    <div class=\"row row-forecast\">\n",
      "        <div class=\"forecast-label\"><b>Вечер вторника</b></div>\n",
      "        <div class=\"forecast-text\">В основном ясно, с низким около 65.</div>\n",
      "    </div>\n",
      "    <div class=\"row row-forecast\">\n",
      "        <div class=\"forecast-label\"><b>Среда</b></div>\n",
      "        <div class=\"forecast-text\">Солнечный, с высоким около 77.</div>\n",
      "    </div>\n",
      "    <div class=\"row row-forecast\">\n",
      "        <div class=\"forecast-label\"><b>Ночь среды</b></div>\n",
      "        <div class=\"forecast-text\">В основном ясно, с низким около 67.</div>\n",
      "    </div>\n",
      "    <div class=\"row row-forecast\">\n",
      "        <div class=\"forecast-label\"><b>Четверг</b></div>\n",
      "        <div class=\"forecast-text\">Вероятность дождя после 1 вечера. Преимущественно солнечно, с максимумом около 81. Вероятность осадков составляет 30%.</div>\n",
      "    </div>\n",
      "  </body>\n",
      "</html>\n",
      "\n"
     ]
    }
   ],
   "source": [
    "text = read_url(\"http://dfedorov.spb.ru/python3/forecast.html\")\n",
    "print(text)"
   ]
  },
  {
   "cell_type": "code",
   "execution_count": 12,
   "metadata": {},
   "outputs": [],
   "source": [
    "# создадим парсер Beautiful Soup\n",
    "bs = bs4.BeautifulSoup(text, 'html.parser')"
   ]
  },
  {
   "cell_type": "code",
   "execution_count": 13,
   "metadata": {},
   "outputs": [],
   "source": [
    "weather_dict = dict()"
   ]
  },
  {
   "cell_type": "code",
   "execution_count": 14,
   "metadata": {},
   "outputs": [
    {
     "data": {
      "text/plain": [
       "[<div class=\"forecast-label\"><b>Сегодня ночью</b></div>,\n",
       " <div class=\"forecast-label\"><b>Пятница</b></div>,\n",
       " <div class=\"forecast-label\"><b>Ночь пятницы</b></div>,\n",
       " <div class=\"forecast-label\"><b>Суббота</b></div>,\n",
       " <div class=\"forecast-label\"><b>Субботняя ночь</b></div>,\n",
       " <div class=\"forecast-label\"><b>Воскресенье</b></div>,\n",
       " <div class=\"forecast-label\"><b>Воскресный вечер</b></div>,\n",
       " <div class=\"forecast-label\"><b>Понедельник</b></div>,\n",
       " <div class=\"forecast-label\"><b>Ночь понедельника</b></div>,\n",
       " <div class=\"forecast-label\"><b>Вторник</b></div>,\n",
       " <div class=\"forecast-label\"><b>Вечер вторника</b></div>,\n",
       " <div class=\"forecast-label\"><b>Среда</b></div>,\n",
       " <div class=\"forecast-label\"><b>Ночь среды</b></div>,\n",
       " <div class=\"forecast-label\"><b>Четверг</b></div>]"
      ]
     },
     "execution_count": 14,
     "metadata": {},
     "output_type": "execute_result"
    }
   ],
   "source": [
    "special_list = bs.select('.forecast-label')\n",
    "special_list"
   ]
  },
  {
   "cell_type": "code",
   "execution_count": 15,
   "metadata": {},
   "outputs": [
    {
     "data": {
      "text/plain": [
       "bs4.element.Tag"
      ]
     },
     "execution_count": 15,
     "metadata": {},
     "output_type": "execute_result"
    }
   ],
   "source": [
    "type(special_list[0])"
   ]
  },
  {
   "cell_type": "code",
   "execution_count": 16,
   "metadata": {},
   "outputs": [
    {
     "data": {
      "text/plain": [
       "'<div class=\"forecast-label\"><b>Сегодня ночью</b></div>'"
      ]
     },
     "execution_count": 16,
     "metadata": {},
     "output_type": "execute_result"
    }
   ],
   "source": [
    "str(special_list[0])"
   ]
  },
  {
   "cell_type": "code",
   "execution_count": 17,
   "metadata": {},
   "outputs": [
    {
     "data": {
      "text/plain": [
       "['<div class=\"forecast-label\">', 'Сегодня ночью</b></div>']"
      ]
     },
     "execution_count": 17,
     "metadata": {},
     "output_type": "execute_result"
    }
   ],
   "source": [
    "str(special_list[0]).split('<b>')"
   ]
  },
  {
   "cell_type": "code",
   "execution_count": null,
   "metadata": {},
   "outputs": [],
   "source": []
  },
  {
   "cell_type": "code",
   "execution_count": 19,
   "metadata": {},
   "outputs": [
    {
     "data": {
      "text/plain": [
       "[<div class=\"forecast-text\">Небольшая вероятность ливней и гроз до 22:00. Облачно с прояснениями около 66. Ветер юго-западный около 9 миль в час. Вероятность осадков 20%. Возможны новые осадки от десятой до четверти дюйма.</div>,\n",
       " <div class=\"forecast-text\">Местами солнечно. Высоко около 77, с температурами, падающими приблизительно к 75 днем. Северо-западный ветер от 7 до 12 миль в час, с порывами до 18 миль в час.</div>,\n",
       " <div class=\"forecast-text\">Облачно с прояснениями около 63. Северный ветер от 7 до 10 миль в час.</div>,\n",
       " <div class=\"forecast-text\">В основном солнечно, с высокой температурой около 73. Северный ветер около 10 миль в час.</div>,\n",
       " <div class=\"forecast-text\">Облачно с прояснениями, около 63. Ветер северный, 5-10 миль в час.</div>,\n",
       " <div class=\"forecast-text\">В основном солнечно, с высотой около 73.</div>,\n",
       " <div class=\"forecast-text\">Облачно с прояснениями около 64.</div>,\n",
       " <div class=\"forecast-text\">Преимущественно солнечно, с высоким около 74.</div>,\n",
       " <div class=\"forecast-text\">В основном ясно, с низким около 65.</div>,\n",
       " <div class=\"forecast-text\">Солнечный, с высоким около 75.</div>,\n",
       " <div class=\"forecast-text\">В основном ясно, с низким около 65.</div>,\n",
       " <div class=\"forecast-text\">Солнечный, с высоким около 77.</div>,\n",
       " <div class=\"forecast-text\">В основном ясно, с низким около 67.</div>,\n",
       " <div class=\"forecast-text\">Вероятность дождя после 1 вечера. Преимущественно солнечно, с максимумом около 81. Вероятность осадков составляет 30%.</div>]"
      ]
     },
     "execution_count": 19,
     "metadata": {},
     "output_type": "execute_result"
    }
   ],
   "source": [
    "special_list = bs.select('.forecast-text')\n",
    "special_list"
   ]
  },
  {
   "cell_type": "code",
   "execution_count": null,
   "metadata": {},
   "outputs": [],
   "source": []
  }
 ],
 "metadata": {
  "kernelspec": {
   "display_name": "Python 3",
   "language": "python",
   "name": "python3"
  },
  "language_info": {
   "codemirror_mode": {
    "name": "ipython",
    "version": 3
   },
   "file_extension": ".py",
   "mimetype": "text/x-python",
   "name": "python",
   "nbconvert_exporter": "python",
   "pygments_lexer": "ipython3",
   "version": "3.7.3"
  }
 },
 "nbformat": 4,
 "nbformat_minor": 4
}
