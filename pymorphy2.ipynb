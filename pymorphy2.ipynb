{
 "cells": [
  {
   "cell_type": "markdown",
   "metadata": {},
   "source": [
    "### Морфологический анализатор pymorphy2"
   ]
  },
  {
   "cell_type": "markdown",
   "metadata": {},
   "source": [
    "pymorphy2 умеет:\n",
    "\n",
    "- приводить слово к нормальной форме (например, “люди -> человек”, или “гулял -> гулять”).\n",
    "- ставить слово в нужную форму. Например, ставить слово во множественное число, менять падеж слова и т.д.\n",
    "- возвращать грамматическую информацию о слове (число, род, падеж, часть речи и т.д.)"
   ]
  },
  {
   "cell_type": "code",
   "execution_count": 1,
   "metadata": {},
   "outputs": [
    {
     "name": "stdout",
     "output_type": "stream",
     "text": [
      "WARNING: pip is being invoked by an old script wrapper. This will fail in a future version of pip.\n",
      "Please see https://github.com/pypa/pip/issues/5599 for advice on fixing the underlying issue.\n",
      "To avoid this problem you can invoke Python with '-m pip' instead of running pip directly.\n",
      "Requirement already satisfied: pymorphy2 in /home/dmf/anaconda3/lib/python3.7/site-packages (0.8)\n",
      "Requirement already satisfied: pymorphy2-dicts<3.0,>=2.4 in /home/dmf/anaconda3/lib/python3.7/site-packages (from pymorphy2) (2.4.393442.3710985)\n",
      "Requirement already satisfied: dawg-python>=0.7 in /home/dmf/anaconda3/lib/python3.7/site-packages (from pymorphy2) (0.7.2)\n",
      "Requirement already satisfied: docopt>=0.6 in /home/dmf/anaconda3/lib/python3.7/site-packages (from pymorphy2) (0.6.2)\n"
     ]
    }
   ],
   "source": [
    "#!pip3 install pymorphy2"
   ]
  },
  {
   "cell_type": "markdown",
   "metadata": {},
   "source": [
    "Нормальную (начальную) форму слова можно получить через атрибуты Parse.normal_form и Parse.normalized. Чтоб получить объект Parse, нужно сперва разобрать слово и выбрать правильный вариант разбора из предложенных.\n",
    "\n",
    "Но что считается за нормальную форму? Например, возьмем слово “думающим”. Иногда мы захотим нормализовать его в “думать”, иногда - в “думающий”, иногда - в “думающая”.\n",
    "\n",
    "Посмотрим, что сделает pymorphy2 в этом примере:"
   ]
  },
  {
   "cell_type": "code",
   "execution_count": 2,
   "metadata": {},
   "outputs": [],
   "source": [
    "import pymorphy2\n",
    "morph = pymorphy2.MorphAnalyzer()"
   ]
  },
  {
   "cell_type": "code",
   "execution_count": null,
   "metadata": {},
   "outputs": [],
   "source": [
    "# https://pymorphy2.readthedocs.io/en/latest/user/guide.html#id2"
   ]
  }
 ],
 "metadata": {
  "kernelspec": {
   "display_name": "Python 3",
   "language": "python",
   "name": "python3"
  },
  "language_info": {
   "codemirror_mode": {
    "name": "ipython",
    "version": 3
   },
   "file_extension": ".py",
   "mimetype": "text/x-python",
   "name": "python",
   "nbconvert_exporter": "python",
   "pygments_lexer": "ipython3",
   "version": "3.7.3"
  }
 },
 "nbformat": 4,
 "nbformat_minor": 4
}
