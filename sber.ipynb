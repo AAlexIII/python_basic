{
 "cells": [
  {
   "cell_type": "code",
   "execution_count": null,
   "metadata": {},
   "outputs": [],
   "source": [
    "# sberbank.py\n",
    "def money_reader(what, where, when):\n",
    "    \"\"\"\n",
    "    Функция возвращает некоторый показатель по сведениям Сбербанка в выбранном городе за указанный период.\n",
    "    what - что ищем, например 'Средняя зарплата'.\n",
    "    where - где ищем, например 'Санкт-Петербург'.\n",
    "    when - когда ищем, указываем год.\n",
    "    \n",
    "    \"\"\"\n",
    "    import csv\n",
    "    money = list()\n",
    "    try:\n",
    "        with open('opendata.csv', encoding='cp1251') as csvfile:\n",
    "            money_reader = csv.reader(csvfile) # delimiter по умолчанию ','\n",
    "            for row in money_reader:\n",
    "                if row[0] == what:\n",
    "                    if row[1] == where:                    \n",
    "                        lst = row[2].split('-')                    \n",
    "                        if lst[0] == when:                    \n",
    "                            money.append(int(row[3]))\n",
    "        return round(sum(money)/len(money), 2)     \n",
    "    except Exception as e:\n",
    "        return e\n",
    "\n",
    "if __name__ == '__main__':\n",
    "\n",
    "    print('Санкт-Петербург')\n",
    "    for year in range(2015, 2019):\n",
    "        print(str(year), money_reader('Средняя зарплата', 'Санкт-Петербург', str(year)))\n",
    "\n",
    "    print('Москва')\n",
    "    for year in range(2015, 2019):\n",
    "        print(str(year), money_reader('Средняя зарплата', 'Москва', str(year)))"
   ]
  }
 ],
 "metadata": {
  "kernelspec": {
   "display_name": "Python 3",
   "language": "python",
   "name": "python3"
  },
  "language_info": {
   "codemirror_mode": {
    "name": "ipython",
    "version": 3
   },
   "file_extension": ".py",
   "mimetype": "text/x-python",
   "name": "python",
   "nbconvert_exporter": "python",
   "pygments_lexer": "ipython3",
   "version": "3.7.3"
  }
 },
 "nbformat": 4,
 "nbformat_minor": 4
}
