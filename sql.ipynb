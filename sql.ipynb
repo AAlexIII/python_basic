{
 "cells": [
  {
   "cell_type": "markdown",
   "metadata": {},
   "source": [
    "Автор блокнота: Олег Дудник"
   ]
  },
  {
   "cell_type": "markdown",
   "metadata": {},
   "source": [
    "Мануал по SQL: http://swcarpentry.github.io/sql-novice-survey/10-prog/index.html"
   ]
  },
  {
   "cell_type": "code",
   "execution_count": null,
   "metadata": {},
   "outputs": [],
   "source": [
    "# Cell #1\n",
    "import sqlite3\n",
    "conn = sqlite3.connect('restaurant.db') # Создаем соединение с нашей базой данных"
   ]
  },
  {
   "cell_type": "markdown",
   "metadata": {},
   "source": [
    "# Часть №1"
   ]
  },
  {
   "cell_type": "markdown",
   "metadata": {},
   "source": [
    "#### Хотим таблицу Склад:\n",
    "\n",
    "| Название ингредиента | Количество | Дата* |\n",
    "| -------------------- |:----------:|:-----:|\n",
    "| Брокколи             | 25         | 02.12 |\n",
    "| Куриное филе         | 5          | 03.12 |\n",
    "| Брокколи             | 30         | 04.12 |\n",
    "\n",
    "*когда испортиться или когда привезли\n",
    "\n",
    "#### Как ее правильно реализовать в реляционных базах данных?\n",
    "###### Таблица Склад:  \n",
    "   \n",
    "| id | id ингредиента | Количество | Дата* |\n",
    "| -- | -------------- |:----------:|:-----:|\n",
    "| 1  | 5              | 25         | 1575314617 |\n",
    "| 2  | 7              | 5          | 1575401017 |\n",
    "| 3  | 5              | 30         | 1575487417 |\n",
    "\n",
    "###### Таблица Ингредиенты:\n",
    "\n",
    "| id ингредиента | Название |\n",
    "| -- | -------------- |\n",
    "| 5  | Брокколи       |\n",
    "| 7  | Куриное филе   |\n",
    "\n",
    "*unix-time"
   ]
  },
  {
   "cell_type": "markdown",
   "metadata": {},
   "source": [
    "Почему именно так?"
   ]
  },
  {
   "cell_type": "code",
   "execution_count": null,
   "metadata": {},
   "outputs": [],
   "source": [
    "# Cell #2\n",
    "import sys\n",
    "print(sys.getsizeof(318))\n",
    "print(sys.getsizeof('Брокколи'))\n",
    "d = sys.getsizeof('Брокколи') - sys.getsizeof(318)\n",
    "print(d)"
   ]
  },
  {
   "cell_type": "markdown",
   "metadata": {},
   "source": [
    "Создадим таблицы в нашей БД:"
   ]
  },
  {
   "cell_type": "code",
   "execution_count": null,
   "metadata": {},
   "outputs": [],
   "source": [
    "# Cell #3\n",
    "# Создаем курсор - это специальный объект который делает запросы и получает их результаты\n",
    "c = conn.cursor()\n",
    "\n",
    "# Создаем таблицу ингредиентов\n",
    "c.execute('''CREATE TABLE ingredients\n",
    "             (id INTEGER PRIMARY KEY, name TEXT)''')\n",
    "\n",
    "# Создаем таблицу для склада\n",
    "c.execute('''CREATE TABLE warehouse\n",
    "             (id INTEGER PRIMARY KEY AUTOINCREMENT NOT NULL, ingredient_id INTEGER, count INTEGER, date REAL)''')\n",
    "\n",
    "# Save (commit) the changes\n",
    "conn.commit()"
   ]
  },
  {
   "cell_type": "markdown",
   "metadata": {},
   "source": [
    "Заполним таблицу ингредиентов:"
   ]
  },
  {
   "cell_type": "code",
   "execution_count": null,
   "metadata": {},
   "outputs": [],
   "source": [
    "# Cell #4\n",
    "ingredients = ['Молоко', 'Яйцо', 'Мука', 'Разрыхлитель', 'Масло растительное', 'Сахар', 'Соль']\n",
    "\n",
    "for i in map(lambda it: (it, ), ingredients):\n",
    "    print(i)\n",
    "    c.execute(\"INSERT INTO ingredients (name) VALUES (?)\", i)"
   ]
  },
  {
   "cell_type": "markdown",
   "metadata": {},
   "source": [
    "Посмотрим на неё:"
   ]
  },
  {
   "cell_type": "code",
   "execution_count": null,
   "metadata": {},
   "outputs": [],
   "source": [
    "# Cell #5\n",
    "c.execute(\"SELECT * FROM ingredients\")\n",
    "results = c.fetchall()\n",
    "results"
   ]
  },
  {
   "cell_type": "code",
   "execution_count": null,
   "metadata": {},
   "outputs": [],
   "source": [
    "# Cell #6\n",
    "c.execute(\"SELECT name FROM ingredients\")\n",
    "results = c.fetchall()\n",
    "results"
   ]
  },
  {
   "cell_type": "code",
   "execution_count": null,
   "metadata": {},
   "outputs": [],
   "source": [
    "# Cell #7\n",
    "c.execute(\"SELECT * FROM ingredients WHERE id=5\")\n",
    "print(c.fetchall())\n",
    "\n",
    "c.execute(\"SELECT * FROM ingredients WHERE name='Соль'\")\n",
    "print(c.fetchall())"
   ]
  },
  {
   "cell_type": "markdown",
   "metadata": {},
   "source": [
    "Посчитаем количество строк этой таблицы:"
   ]
  },
  {
   "cell_type": "code",
   "execution_count": null,
   "metadata": {},
   "outputs": [],
   "source": [
    "# Cell #8\n",
    "c.execute(\"SELECT COUNT(*) FROM ingredients\")\n",
    "print(c.fetchall())\n",
    "\n",
    "c.execute(\"SELECT SUM(id) FROM ingredients\")\n",
    "print(c.fetchall())"
   ]
  },
  {
   "cell_type": "markdown",
   "metadata": {},
   "source": [
    "Создадим случайные данные для Склада и запишем их в БД:"
   ]
  },
  {
   "cell_type": "code",
   "execution_count": null,
   "metadata": {},
   "outputs": [],
   "source": [
    "# Cell #9\n",
    "c.execute(\"SELECT id FROM ingredients\")\n",
    "results = c.fetchall()\n",
    "print(results)\n",
    "ids = list(map(lambda it: it[0], results))\n",
    "print(ids)"
   ]
  },
  {
   "cell_type": "code",
   "execution_count": null,
   "metadata": {},
   "outputs": [],
   "source": [
    "# Cell #10\n",
    "import random\n",
    "import datetime\n",
    "\n",
    "for i in range(1, 28):\n",
    "    count = random.randint(10, 100)\n",
    "    date = datetime.datetime(2019, 11, i, hour=random.randint(12, 18), minute=random.randint(0, 59), second=0, microsecond=0, tzinfo=None)\n",
    "    ingredient = random.choice(ids)\n",
    "    c.execute(\"INSERT INTO warehouse (ingredient_id, count, date) VALUES (?, ?, ?)\", (ingredient, count, date.timestamp()))"
   ]
  },
  {
   "cell_type": "code",
   "execution_count": null,
   "metadata": {},
   "outputs": [],
   "source": [
    "# Cell #11\n",
    "c.execute(\"SELECT * FROM warehouse\")\n",
    "results = c.fetchall()\n",
    "results"
   ]
  },
  {
   "cell_type": "markdown",
   "metadata": {},
   "source": [
    "Приведем все в нормальный вид:"
   ]
  },
  {
   "cell_type": "code",
   "execution_count": null,
   "metadata": {},
   "outputs": [],
   "source": [
    "# Cell #12\n",
    "def prettyWarehouse(cursor):\n",
    "    cursor.execute(\"\"\"SELECT name, count, date FROM warehouse\n",
    "          JOIN ingredients WHERE warehouse.ingredient_id = ingredients.id\"\"\")\n",
    "    return cursor.fetchall()\n",
    "\n",
    "prettyWarehouse(c)"
   ]
  },
  {
   "cell_type": "markdown",
   "metadata": {},
   "source": [
    "Посчитаем количество ингредиентов на складе:"
   ]
  },
  {
   "cell_type": "code",
   "execution_count": null,
   "metadata": {},
   "outputs": [],
   "source": [
    "# Cell #13\n",
    "def ingredientsOnWarehouse(cursor):\n",
    "    cursor.execute(\"\"\"SELECT name, SUM(count) FROM warehouse \n",
    "          JOIN ingredients WHERE warehouse.ingredient_id = ingredients.id\n",
    "          GROUP BY name\"\"\")\n",
    "    return cursor.fetchall()\n",
    "\n",
    "ingredientsOnWarehouse(c)"
   ]
  },
  {
   "cell_type": "markdown",
   "metadata": {},
   "source": [
    "Создадим функцию для поставки ингредиентов:"
   ]
  },
  {
   "cell_type": "code",
   "execution_count": null,
   "metadata": {},
   "outputs": [],
   "source": [
    "# Cell #14\n",
    "c.execute(\"SELECT id FROM ingredients WHERE name=?\", ('Мука',))\n",
    "results = c.fetchall()\n",
    "print(results)\n",
    "ingredient_id = results[0][0]\n",
    "ingredient_id"
   ]
  },
  {
   "cell_type": "code",
   "execution_count": null,
   "metadata": {},
   "outputs": [],
   "source": [
    "# Cell #15\n",
    "c.execute(\"SELECT id FROM ingredients WHERE name=?\", ('Авокадо',))\n",
    "results = c.fetchall()\n",
    "print(results)\n",
    "print(len(results))"
   ]
  },
  {
   "cell_type": "code",
   "execution_count": null,
   "metadata": {},
   "outputs": [],
   "source": [
    "# Cell #16\n",
    "def getIngredientId(cursor, name):\n",
    "    cursor.execute(\"SELECT id FROM ingredients WHERE name=?\", (name, ))\n",
    "    results = cursor.fetchall()\n",
    "    if(len(results) > 0):\n",
    "        return results[0][0]\n",
    "    else:\n",
    "        cursor.execute(\"INSERT INTO ingredients (name) VALUES (?)\", (name, ))\n",
    "        return getIngredientId(cursor, name)"
   ]
  },
  {
   "cell_type": "code",
   "execution_count": null,
   "metadata": {},
   "outputs": [],
   "source": [
    "# Cell #17\n",
    "import datetime\n",
    "def supply(cursor, ingredient_name, count, date):\n",
    "    ingredient_id = getIngredientId(cursor, ingredient_name)\n",
    "    cursor.execute(\"INSERT INTO warehouse (ingredient_id, count, date) VALUES (?, ?, ?)\", \n",
    "                       (ingredient_id, count, date.timestamp()))"
   ]
  },
  {
   "cell_type": "code",
   "execution_count": null,
   "metadata": {},
   "outputs": [],
   "source": [
    "# Cell #18\n",
    "c.execute(\"DELETE FROM warehouse\");\n",
    "c.execute(\"SELECT * FROM warehouse\")\n",
    "results = c.fetchall()\n",
    "results"
   ]
  },
  {
   "cell_type": "code",
   "execution_count": null,
   "metadata": {},
   "outputs": [],
   "source": [
    "# Cell #19\n",
    "c.execute(\"SELECT * FROM ingredients\")\n",
    "results = c.fetchall()\n",
    "results"
   ]
  },
  {
   "cell_type": "code",
   "execution_count": null,
   "metadata": {},
   "outputs": [],
   "source": [
    "# Cell #20\n",
    "supply(c, 'Мука', 10, datetime.datetime.now())\n",
    "supply(c, 'Авокадо', 10, datetime.datetime.now())"
   ]
  },
  {
   "cell_type": "code",
   "execution_count": null,
   "metadata": {},
   "outputs": [],
   "source": [
    "# Cell #21\n",
    "prettyWarehouse(c)"
   ]
  },
  {
   "cell_type": "code",
   "execution_count": null,
   "metadata": {},
   "outputs": [],
   "source": [
    "# Cell #22\n",
    "c.execute(\"SELECT * FROM ingredients\")\n",
    "results = c.fetchall()\n",
    "results"
   ]
  },
  {
   "cell_type": "markdown",
   "metadata": {},
   "source": [
    "# Часть №2"
   ]
  },
  {
   "cell_type": "markdown",
   "metadata": {},
   "source": [
    "#### Хотим таблицу Блюд:\n",
    "   \n",
    "| id | Название            | Ингредиенты |\n",
    "| -- | ------------------- |:-----------:|\n",
    "| 1  | Панкейки            | ?           |\n",
    "| 2  | Буррито             | ?           |\n",
    "| 3  | Овощи по деревенски | ?           |\n",
    "\n",
    "\n",
    "#### Как ее правильно реализовать в реляционных базах данных?\n",
    "\n",
    "###### Таблица Блюд:\n",
    "\n",
    "| id | Название            |\n",
    "| -- | ------------------- |\n",
    "| 1  | Панкейки            |\n",
    "| 2  | Буррито             |\n",
    "| 3  | Овощи по деревенски |\n",
    "\n",
    "###### Таблица Ингредиентов:\n",
    "\n",
    "| id ингредиента | Название |\n",
    "| -- | -------------- |\n",
    "| 5  | Брокколи       |\n",
    "| 7  | Куриное филе   |\n",
    "| 12 | Молоко         |\n",
    "\n",
    "###### Таблица Блюд-Ингредиентов:\n",
    "\n",
    "| id Блюда | id Ингредиента | Количество ингредиентов |\n",
    "| -------- | -------- | -------- |\n",
    "| 1        | 12       | 250 |\n",
    "| 2        | 7       | 50 |\n",
    "| 3        | 5       | 10 |"
   ]
  },
  {
   "cell_type": "code",
   "execution_count": null,
   "metadata": {},
   "outputs": [],
   "source": [
    "# Cell #23\n",
    "c.execute(\"DELETE FROM ingredients\");\n",
    "c.execute(\"DELETE FROM warehouse\");"
   ]
  },
  {
   "cell_type": "code",
   "execution_count": null,
   "metadata": {},
   "outputs": [],
   "source": [
    "# Cell #24\n",
    "# Создаем таблицу блюд\n",
    "c.execute('''CREATE TABLE dishes\n",
    "             (id INTEGER PRIMARY KEY, name TEXT, recipe INTEGER)''')\n",
    "\n",
    "# Создаем таблицу для блюд-ингредиетов\n",
    "c.execute('''CREATE TABLE dishes_ingredients\n",
    "             (dish_id INTEGER, ingredient_id INTEGER, ingredient_count INTEGER)''')\n",
    "\n",
    "conn.commit()"
   ]
  },
  {
   "cell_type": "markdown",
   "metadata": {},
   "source": [
    "Напишем функцию для добавления блюд:"
   ]
  },
  {
   "cell_type": "code",
   "execution_count": null,
   "metadata": {},
   "outputs": [],
   "source": [
    "# Cell #25\n",
    "dishes = {\n",
    "    'Панкейки': {\n",
    "        'Молоко': 210,\n",
    "        'Яйцо': 1,\n",
    "        'Мука': 200,\n",
    "        'Разрыхлитель': 5,\n",
    "        'Масло растительное': 2,\n",
    "        'Сахар': 30,\n",
    "        'Соль': 1\n",
    "    },\n",
    "    \n",
    "    'Буррито': {\n",
    "        'Тортилья': 4,\n",
    "        'Куриное филе': 12,\n",
    "        'Фасоль': 4,\n",
    "        'Кукуруза': 4,\n",
    "        'Помидор': 8,\n",
    "        'Перец': 1,\n",
    "        'Сыр': 200,\n",
    "        'Лук': 4,\n",
    "        'Чеснок': 3,\n",
    "        'Соль': 2\n",
    "    },\n",
    "    \n",
    "    'Овощи по деревенски': {\n",
    "        'Картофель': 16,\n",
    "        'Кабачок': 4,\n",
    "        'Баклажан': 4,\n",
    "        'Сельдерей': 1,\n",
    "        'Помидор': 4,\n",
    "        'Перец': 8,\n",
    "        'Петрушка': 2\n",
    "    }\n",
    "}"
   ]
  },
  {
   "cell_type": "code",
   "execution_count": null,
   "metadata": {},
   "outputs": [],
   "source": [
    "# Cell #26\n",
    "def getInsertId(cursor, table, name):\n",
    "    cursor.execute(\"SELECT id FROM '%s' WHERE name=?\" % table, (name, ))\n",
    "    results = cursor.fetchall()\n",
    "    if(len(results) > 0):\n",
    "        return results[0][0]\n",
    "    else:\n",
    "        cursor.execute(\"INSERT INTO '%s' (name) VALUES (?)\" % table, (name, ))\n",
    "        return getInsertId(cursor, table, name)"
   ]
  },
  {
   "cell_type": "code",
   "execution_count": null,
   "metadata": {},
   "outputs": [],
   "source": [
    "# Cell #27\n",
    "for dish_name, ingredients in dishes.items():\n",
    "    for ingredient_name, count in ingredients.items():\n",
    "        print(ingredient_name, ': ', count, sep='')"
   ]
  },
  {
   "cell_type": "code",
   "execution_count": null,
   "metadata": {},
   "outputs": [],
   "source": [
    "# Cell #28\n",
    "for dish_name, ingredients in dishes.items():\n",
    "    for ingredient_name, count in ingredients.items():\n",
    "        ingredient_id = getInsertId(c, 'ingredients', ingredient_name)\n",
    "        dish_id = getInsertId(c, 'dishes', dish_name)\n",
    "        \n",
    "        c.execute(\"INSERT INTO dishes_ingredients (dish_id, ingredient_id, ingredient_count) VALUES (?, ?, ?)\", \n",
    "                       (dish_id, ingredient_id, count))\n"
   ]
  },
  {
   "cell_type": "code",
   "execution_count": null,
   "metadata": {},
   "outputs": [],
   "source": [
    "# Cell #29\n",
    "c.execute(\"\"\"SELECT dishes.name, ingredients.name, ingredient_count FROM dishes_ingredients \n",
    "          JOIN dishes ON dish_id = dishes.id\n",
    "          JOIN ingredients ON ingredient_id = ingredients.id\"\"\")\n",
    "results = c.fetchall()\n",
    "results"
   ]
  },
  {
   "cell_type": "code",
   "execution_count": null,
   "metadata": {},
   "outputs": [],
   "source": [
    "# Cell #30\n",
    "# Создаем таблицу для плана блюд\n",
    "c.execute('''CREATE TABLE dish_plan\n",
    "             (dish_id INTEGER, count INTEGER)''')\n",
    "\n",
    "c.execute(\"INSERT INTO dish_plan (dish_id, count) VALUES (1, 30)\")\n",
    "c.execute(\"INSERT INTO dish_plan (dish_id, count) VALUES (2, 50)\")\n",
    "c.execute(\"INSERT INTO dish_plan (dish_id, count) VALUES (3, 70)\")\n",
    "\n",
    "conn.commit()"
   ]
  },
  {
   "cell_type": "code",
   "execution_count": null,
   "metadata": {},
   "outputs": [],
   "source": [
    "# Cell #31\n",
    "c.execute(\"\"\"SELECT dishes.name, ingredients.name, ingredient_count, dish_plan.count,\n",
    "            ingredient_count*dish_plan.count FROM dishes_ingredients \n",
    "          JOIN dishes ON dishes_ingredients.dish_id = dishes.id\n",
    "          JOIN ingredients ON ingredient_id = ingredients.id\n",
    "          JOIN dish_plan ON dish_plan.dish_id = dishes.id\"\"\")\n",
    "results = c.fetchall()\n",
    "results"
   ]
  },
  {
   "cell_type": "code",
   "execution_count": null,
   "metadata": {},
   "outputs": [],
   "source": [
    "# Cell #32\n",
    "c.execute(\"\"\"SELECT ingredients.name, SUM(ingredient_count*dish_plan.count) FROM dishes_ingredients \n",
    "          JOIN dishes ON dishes_ingredients.dish_id = dishes.id\n",
    "          JOIN ingredients ON ingredient_id = ingredients.id\n",
    "          JOIN dish_plan ON dish_plan.dish_id = dishes.id\n",
    "          GROUP BY ingredients.name\"\"\")\n",
    "results = c.fetchall()\n",
    "results"
   ]
  },
  {
   "cell_type": "code",
   "execution_count": null,
   "metadata": {},
   "outputs": [],
   "source": [
    "# Cell #33\n",
    "c.execute(\"SELECT id FROM ingredients\")\n",
    "results = c.fetchall()\n",
    "ids = list(map(lambda it: it[0], results))\n",
    "for i in range(1, 28):\n",
    "    count = random.randint(10, 100)\n",
    "    date = datetime.datetime(2019, 11, i, hour=random.randint(12, 18), minute=random.randint(0, 59), second=0, microsecond=0, tzinfo=None)\n",
    "    ingredient = random.choice(ids)\n",
    "    c.execute(\"INSERT INTO warehouse (ingredient_id, count, date) VALUES (?, ?, ?)\", (ingredient, count, date.timestamp()))"
   ]
  },
  {
   "cell_type": "code",
   "execution_count": null,
   "metadata": {},
   "outputs": [],
   "source": [
    "# Cell #34\n",
    "def inWarehouse(cursor):\n",
    "    cursor.execute(\"\"\"SELECT name, SUM(count) FROM warehouse \n",
    "          JOIN ingredients WHERE warehouse.ingredient_id = ingredients.id\n",
    "          GROUP BY name\"\"\")\n",
    "    return cursor.fetchall()\n",
    "    \n",
    "inWarehouse(c)"
   ]
  },
  {
   "cell_type": "code",
   "execution_count": null,
   "metadata": {},
   "outputs": [],
   "source": [
    "# Cell #35\n",
    "c.execute(\"\"\" \n",
    "        SELECT name_plan, count_warehouse, count_plan, count_warehouse-count_plan FROM\n",
    "        (SELECT name as name_warehouse, SUM(count) as count_warehouse FROM warehouse \n",
    "          JOIN ingredients WHERE warehouse.ingredient_id = ingredients.id\n",
    "          GROUP BY name)\n",
    "\n",
    "        JOIN (\n",
    "            SELECT ingredients.name as name_plan, \n",
    "            SUM(ingredient_count*dish_plan.count) as count_plan\n",
    "            FROM dishes_ingredients \n",
    "            JOIN dishes ON dishes_ingredients.dish_id = dishes.id\n",
    "            JOIN ingredients ON ingredient_id = ingredients.id\n",
    "            JOIN dish_plan ON dish_plan.dish_id = dishes.id\n",
    "            GROUP BY ingredients.name\n",
    "        ) ON name_warehouse = name_plan \"\"\")\n",
    "results = c.fetchall()\n",
    "results"
   ]
  },
  {
   "cell_type": "code",
   "execution_count": null,
   "metadata": {},
   "outputs": [],
   "source": [
    "# Cell #36\n",
    "supply(c, 'Морепродукты', 10, datetime.datetime.now())\n",
    "prettyWarehouse(c)"
   ]
  },
  {
   "cell_type": "code",
   "execution_count": null,
   "metadata": {},
   "outputs": [],
   "source": [
    "# Cell #37\n",
    "c.execute(\"\"\"SELECT name FROM warehouse JOIN ingredients ON warehouse.ingredient_id = ingredients.id\n",
    "            \n",
    "            EXCEPT\n",
    "            \n",
    "            SELECT ingredients.name FROM dishes_ingredients \n",
    "            JOIN dishes ON dish_id = dishes.id\n",
    "            JOIN ingredients ON ingredient_id = ingredients.id\n",
    "            \n",
    "        \"\"\")\n",
    "results = c.fetchall()\n",
    "results"
   ]
  },
  {
   "cell_type": "markdown",
   "metadata": {},
   "source": [
    "## Подсказки к домашнему заданию"
   ]
  },
  {
   "cell_type": "code",
   "execution_count": null,
   "metadata": {},
   "outputs": [],
   "source": [
    "# Cell #38\n",
    "c.execute(\"SELECT * FROM warehouse ORDER BY date\")\n",
    "results = c.fetchall()\n",
    "results"
   ]
  },
  {
   "cell_type": "code",
   "execution_count": null,
   "metadata": {},
   "outputs": [],
   "source": [
    "# Cell #39\n",
    "c.execute(\"\"\"SELECT name, count, date FROM warehouse \n",
    "          JOIN ingredients ON warehouse.ingredient_id = ingredients.id\n",
    "          ORDER BY date\"\"\")\n",
    "results = c.fetchall()\n",
    "list(map(lambda it: (it[0], it[1], datetime.datetime.fromtimestamp(it[2]).strftime(\"%Y-%m-%d %H:%M:%S\"))\n",
    "         , results))"
   ]
  },
  {
   "cell_type": "code",
   "execution_count": null,
   "metadata": {},
   "outputs": [],
   "source": [
    "# Cell #40 \n",
    "inWarehouse(c)"
   ]
  },
  {
   "cell_type": "code",
   "execution_count": null,
   "metadata": {},
   "outputs": [],
   "source": [
    "# Cell #41\n",
    "c.execute(\"\"\"SELECT warehouse.id, count, name FROM warehouse \n",
    "          JOIN ingredients ON ingredients.id = warehouse.ingredient_id\"\"\")\n",
    "results = c.fetchall()\n",
    "results"
   ]
  },
  {
   "cell_type": "code",
   "execution_count": null,
   "metadata": {},
   "outputs": [],
   "source": [
    "# Cell #42\n",
    "c.execute(\"UPDATE warehouse SET count = 5 WHERE id=31\")\n",
    "prettyWarehouse(c)"
   ]
  },
  {
   "cell_type": "code",
   "execution_count": null,
   "metadata": {},
   "outputs": [],
   "source": [
    "# Cell #43\n",
    "inWarehouse(c)"
   ]
  },
  {
   "cell_type": "code",
   "execution_count": null,
   "metadata": {},
   "outputs": [],
   "source": [
    "# Cell #44\n",
    "\n",
    "# We can also close the connection if we are done with it.\n",
    "# Just be sure any changes have been committed or they will be lost.\n",
    "conn.close()"
   ]
  },
  {
   "cell_type": "markdown",
   "metadata": {},
   "source": [
    "1. Создать таблицу меню, с указанием цен для каждого блюда\n",
    "2. Создать таблицу чеков, с указанием какие блюда были проданы\n",
    "3. Создать функцию, которая бы принимала на вход заказ блюд и создавала в бд соответствующий чек и убирала ингредиенты на складе (которые использовались при приготовлении этих блюд)\n",
    "4. Создать функцию для подсчета выручки (за день/месяц/за всю жизнь)\n",
    "5. По желанию - продумать архитектуру, чтобы можно было считать прибыль"
   ]
  },
  {
   "cell_type": "code",
   "execution_count": null,
   "metadata": {},
   "outputs": [],
   "source": []
  }
 ],
 "metadata": {
  "kernelspec": {
   "display_name": "Python 3",
   "language": "python",
   "name": "python3"
  },
  "language_info": {
   "codemirror_mode": {
    "name": "ipython",
    "version": 3
   },
   "file_extension": ".py",
   "mimetype": "text/x-python",
   "name": "python",
   "nbconvert_exporter": "python",
   "pygments_lexer": "ipython3",
   "version": "3.7.3"
  }
 },
 "nbformat": 4,
 "nbformat_minor": 2
}
