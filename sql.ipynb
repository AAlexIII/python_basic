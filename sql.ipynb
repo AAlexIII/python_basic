{
 "cells": [
  {
   "cell_type": "markdown",
   "metadata": {},
   "source": [
    "Автор блокнота: Олег Дудник"
   ]
  },
  {
   "cell_type": "markdown",
   "metadata": {},
   "source": [
    "Мануал по SQL: http://swcarpentry.github.io/sql-novice-survey/10-prog/index.html"
   ]
  },
  {
   "cell_type": "code",
   "execution_count": 2,
   "metadata": {},
   "outputs": [],
   "source": [
    "# Cell #1\n",
    "import sqlite3\n",
    "conn = sqlite3.connect('restaurant.db') # Создаем соединение с нашей базой данных"
   ]
  },
  {
   "cell_type": "markdown",
   "metadata": {},
   "source": [
    "# Часть №1"
   ]
  },
  {
   "cell_type": "markdown",
   "metadata": {},
   "source": [
    "#### Хотим таблицу Склад:\n",
    "\n",
    "| Название ингредиента | Количество | Дата* |\n",
    "| -------------------- |:----------:|:-----:|\n",
    "| Брокколи             | 25         | 02.12 |\n",
    "| Куриное филе         | 5          | 03.12 |\n",
    "| Брокколи             | 30         | 04.12 |\n",
    "\n",
    "*когда испортиться или когда привезли\n",
    "\n",
    "#### Как ее правильно реализовать в реляционных базах данных?\n",
    "###### Таблица Склад:  \n",
    "   \n",
    "| id | id ингредиента | Количество | Дата* |\n",
    "| -- | -------------- |:----------:|:-----:|\n",
    "| 1  | 5              | 25         | 1575314617 |\n",
    "| 2  | 7              | 5          | 1575401017 |\n",
    "| 3  | 5              | 30         | 1575487417 |\n",
    "\n",
    "###### Таблица Ингредиенты:\n",
    "\n",
    "| id ингредиента | Название |\n",
    "| -- | -------------- |\n",
    "| 5  | Брокколи       |\n",
    "| 7  | Куриное филе   |\n",
    "\n",
    "*unix-time"
   ]
  },
  {
   "cell_type": "markdown",
   "metadata": {},
   "source": [
    "Почему именно так?"
   ]
  },
  {
   "cell_type": "code",
   "execution_count": 3,
   "metadata": {},
   "outputs": [
    {
     "name": "stdout",
     "output_type": "stream",
     "text": [
      "28\n",
      "90\n",
      "62\n"
     ]
    }
   ],
   "source": [
    "# Cell #2\n",
    "import sys\n",
    "print(sys.getsizeof(318))\n",
    "print(sys.getsizeof('Брокколи'))\n",
    "d = sys.getsizeof('Брокколи') - sys.getsizeof(318)\n",
    "print(d)"
   ]
  },
  {
   "cell_type": "markdown",
   "metadata": {},
   "source": [
    "Создадим таблицы в нашей БД:"
   ]
  },
  {
   "cell_type": "code",
   "execution_count": 4,
   "metadata": {},
   "outputs": [],
   "source": [
    "# Cell #3\n",
    "# Создаем курсор - это специальный объект который делает запросы и получает их результаты\n",
    "c = conn.cursor()\n",
    "\n",
    "# Создаем таблицу ингредиентов\n",
    "c.execute('''CREATE TABLE ingredients\n",
    "             (id INTEGER PRIMARY KEY, name TEXT)''')\n",
    "\n",
    "# Создаем таблицу для склада\n",
    "c.execute('''CREATE TABLE warehouse\n",
    "             (id INTEGER PRIMARY KEY AUTOINCREMENT NOT NULL, ingredient_id INTEGER, count INTEGER, date REAL)''')\n",
    "\n",
    "# Save (commit) the changes\n",
    "conn.commit()"
   ]
  },
  {
   "cell_type": "markdown",
   "metadata": {},
   "source": [
    "Заполним таблицу ингредиентов:"
   ]
  },
  {
   "cell_type": "code",
   "execution_count": 5,
   "metadata": {},
   "outputs": [
    {
     "name": "stdout",
     "output_type": "stream",
     "text": [
      "('Молоко',)\n",
      "('Яйцо',)\n",
      "('Мука',)\n",
      "('Разрыхлитель',)\n",
      "('Масло растительное',)\n",
      "('Сахар',)\n",
      "('Соль',)\n"
     ]
    }
   ],
   "source": [
    "# Cell #4\n",
    "ingredients = ['Молоко', 'Яйцо', 'Мука', 'Разрыхлитель', 'Масло растительное', 'Сахар', 'Соль']\n",
    "\n",
    "for i in map(lambda it: (it, ), ingredients):\n",
    "    print(i)\n",
    "    c.execute(\"INSERT INTO ingredients (name) VALUES (?)\", i)"
   ]
  },
  {
   "cell_type": "markdown",
   "metadata": {},
   "source": [
    "Посмотрим на неё:"
   ]
  },
  {
   "cell_type": "code",
   "execution_count": 6,
   "metadata": {},
   "outputs": [
    {
     "data": {
      "text/plain": [
       "[(1, 'Молоко'),\n",
       " (2, 'Яйцо'),\n",
       " (3, 'Мука'),\n",
       " (4, 'Разрыхлитель'),\n",
       " (5, 'Масло растительное'),\n",
       " (6, 'Сахар'),\n",
       " (7, 'Соль')]"
      ]
     },
     "execution_count": 6,
     "metadata": {},
     "output_type": "execute_result"
    }
   ],
   "source": [
    "# Cell #5\n",
    "c.execute(\"SELECT * FROM ingredients\")\n",
    "results = c.fetchall()\n",
    "results"
   ]
  },
  {
   "cell_type": "code",
   "execution_count": 7,
   "metadata": {},
   "outputs": [
    {
     "data": {
      "text/plain": [
       "[('Молоко',),\n",
       " ('Яйцо',),\n",
       " ('Мука',),\n",
       " ('Разрыхлитель',),\n",
       " ('Масло растительное',),\n",
       " ('Сахар',),\n",
       " ('Соль',)]"
      ]
     },
     "execution_count": 7,
     "metadata": {},
     "output_type": "execute_result"
    }
   ],
   "source": [
    "# Cell #6\n",
    "c.execute(\"SELECT name FROM ingredients\")\n",
    "results = c.fetchall()\n",
    "results"
   ]
  },
  {
   "cell_type": "code",
   "execution_count": 8,
   "metadata": {},
   "outputs": [
    {
     "name": "stdout",
     "output_type": "stream",
     "text": [
      "[(5, 'Масло растительное')]\n",
      "[(7, 'Соль')]\n"
     ]
    }
   ],
   "source": [
    "# Cell #7\n",
    "c.execute(\"SELECT * FROM ingredients WHERE id=5\")\n",
    "print(c.fetchall())\n",
    "\n",
    "c.execute(\"SELECT * FROM ingredients WHERE name='Соль'\")\n",
    "print(c.fetchall())"
   ]
  },
  {
   "cell_type": "markdown",
   "metadata": {},
   "source": [
    "Посчитаем количество строк этой таблицы:"
   ]
  },
  {
   "cell_type": "code",
   "execution_count": 9,
   "metadata": {},
   "outputs": [
    {
     "name": "stdout",
     "output_type": "stream",
     "text": [
      "[(7,)]\n",
      "[(28,)]\n"
     ]
    }
   ],
   "source": [
    "# Cell #8\n",
    "c.execute(\"SELECT COUNT(*) FROM ingredients\")\n",
    "print(c.fetchall())\n",
    "\n",
    "c.execute(\"SELECT SUM(id) FROM ingredients\")\n",
    "print(c.fetchall())"
   ]
  },
  {
   "cell_type": "markdown",
   "metadata": {},
   "source": [
    "Создадим случайные данные для Склада и запишем их в БД:"
   ]
  },
  {
   "cell_type": "code",
   "execution_count": 10,
   "metadata": {},
   "outputs": [
    {
     "name": "stdout",
     "output_type": "stream",
     "text": [
      "[(1,), (2,), (3,), (4,), (5,), (6,), (7,)]\n",
      "[1, 2, 3, 4, 5, 6, 7]\n"
     ]
    }
   ],
   "source": [
    "# Cell #9\n",
    "c.execute(\"SELECT id FROM ingredients\")\n",
    "results = c.fetchall()\n",
    "print(results)\n",
    "ids = list(map(lambda it: it[0], results))\n",
    "print(ids)"
   ]
  },
  {
   "cell_type": "code",
   "execution_count": 11,
   "metadata": {},
   "outputs": [],
   "source": [
    "# Cell #10\n",
    "import random\n",
    "import datetime\n",
    "\n",
    "for i in range(1, 28):\n",
    "    count = random.randint(10, 100)\n",
    "    date = datetime.datetime(2019, 11, i, hour=random.randint(12, 18), minute=random.randint(0, 59), second=0, microsecond=0, tzinfo=None)\n",
    "    ingredient = random.choice(ids)\n",
    "    c.execute(\"INSERT INTO warehouse (ingredient_id, count, date) VALUES (?, ?, ?)\", (ingredient, count, date.timestamp()))"
   ]
  },
  {
   "cell_type": "code",
   "execution_count": 12,
   "metadata": {},
   "outputs": [
    {
     "data": {
      "text/plain": [
       "[(1, 7, 80, 1572621120.0),\n",
       " (2, 3, 99, 1572698520.0),\n",
       " (3, 1, 89, 1572775920.0),\n",
       " (4, 2, 50, 1572868260.0),\n",
       " (5, 3, 73, 1572949860.0),\n",
       " (6, 1, 98, 1573032000.0),\n",
       " (7, 2, 23, 1573127220.0),\n",
       " (8, 6, 84, 1573224420.0),\n",
       " (9, 1, 12, 1573290180.0),\n",
       " (10, 4, 31, 1573387260.0),\n",
       " (11, 2, 19, 1573468560.0),\n",
       " (12, 5, 32, 1573562040.0),\n",
       " (13, 6, 33, 1573650480.0),\n",
       " (14, 4, 20, 1573734480.0),\n",
       " (15, 5, 64, 1573828320.0),\n",
       " (16, 5, 11, 1573913400.0),\n",
       " (17, 4, 94, 1573992960.0),\n",
       " (18, 5, 60, 1574071200.0),\n",
       " (19, 2, 61, 1574162040.0),\n",
       " (20, 4, 43, 1574254620.0),\n",
       " (21, 4, 32, 1574345760.0),\n",
       " (22, 5, 25, 1574418900.0),\n",
       " (23, 6, 12, 1574513580.0),\n",
       " (24, 6, 40, 1574598000.0),\n",
       " (25, 4, 41, 1574686680.0),\n",
       " (26, 1, 30, 1574765220.0),\n",
       " (27, 6, 70, 1574859780.0)]"
      ]
     },
     "execution_count": 12,
     "metadata": {},
     "output_type": "execute_result"
    }
   ],
   "source": [
    "# Cell #11\n",
    "c.execute(\"SELECT * FROM warehouse\")\n",
    "results = c.fetchall()\n",
    "results"
   ]
  },
  {
   "cell_type": "markdown",
   "metadata": {},
   "source": [
    "Приведем все в нормальный вид:"
   ]
  },
  {
   "cell_type": "code",
   "execution_count": 13,
   "metadata": {},
   "outputs": [
    {
     "data": {
      "text/plain": [
       "[('Соль', 80, 1572621120.0),\n",
       " ('Мука', 99, 1572698520.0),\n",
       " ('Молоко', 89, 1572775920.0),\n",
       " ('Яйцо', 50, 1572868260.0),\n",
       " ('Мука', 73, 1572949860.0),\n",
       " ('Молоко', 98, 1573032000.0),\n",
       " ('Яйцо', 23, 1573127220.0),\n",
       " ('Сахар', 84, 1573224420.0),\n",
       " ('Молоко', 12, 1573290180.0),\n",
       " ('Разрыхлитель', 31, 1573387260.0),\n",
       " ('Яйцо', 19, 1573468560.0),\n",
       " ('Масло растительное', 32, 1573562040.0),\n",
       " ('Сахар', 33, 1573650480.0),\n",
       " ('Разрыхлитель', 20, 1573734480.0),\n",
       " ('Масло растительное', 64, 1573828320.0),\n",
       " ('Масло растительное', 11, 1573913400.0),\n",
       " ('Разрыхлитель', 94, 1573992960.0),\n",
       " ('Масло растительное', 60, 1574071200.0),\n",
       " ('Яйцо', 61, 1574162040.0),\n",
       " ('Разрыхлитель', 43, 1574254620.0),\n",
       " ('Разрыхлитель', 32, 1574345760.0),\n",
       " ('Масло растительное', 25, 1574418900.0),\n",
       " ('Сахар', 12, 1574513580.0),\n",
       " ('Сахар', 40, 1574598000.0),\n",
       " ('Разрыхлитель', 41, 1574686680.0),\n",
       " ('Молоко', 30, 1574765220.0),\n",
       " ('Сахар', 70, 1574859780.0)]"
      ]
     },
     "execution_count": 13,
     "metadata": {},
     "output_type": "execute_result"
    }
   ],
   "source": [
    "# Cell #12\n",
    "def prettyWarehouse(cursor):\n",
    "    cursor.execute(\"\"\"SELECT name, count, date FROM warehouse\n",
    "          JOIN ingredients WHERE warehouse.ingredient_id = ingredients.id\"\"\")\n",
    "    return cursor.fetchall()\n",
    "\n",
    "prettyWarehouse(c)"
   ]
  },
  {
   "cell_type": "markdown",
   "metadata": {},
   "source": [
    "Посчитаем количество ингредиентов на складе:"
   ]
  },
  {
   "cell_type": "code",
   "execution_count": 14,
   "metadata": {},
   "outputs": [
    {
     "data": {
      "text/plain": [
       "[('Масло растительное', 192),\n",
       " ('Молоко', 229),\n",
       " ('Мука', 172),\n",
       " ('Разрыхлитель', 261),\n",
       " ('Сахар', 239),\n",
       " ('Соль', 80),\n",
       " ('Яйцо', 153)]"
      ]
     },
     "execution_count": 14,
     "metadata": {},
     "output_type": "execute_result"
    }
   ],
   "source": [
    "# Cell #13\n",
    "def ingredientsOnWarehouse(cursor):\n",
    "    cursor.execute(\"\"\"SELECT name, SUM(count) FROM warehouse \n",
    "          JOIN ingredients WHERE warehouse.ingredient_id = ingredients.id\n",
    "          GROUP BY name\"\"\")\n",
    "    return cursor.fetchall()\n",
    "\n",
    "ingredientsOnWarehouse(c)"
   ]
  },
  {
   "cell_type": "markdown",
   "metadata": {},
   "source": [
    "Создадим функцию для поставки ингредиентов:"
   ]
  },
  {
   "cell_type": "code",
   "execution_count": 15,
   "metadata": {},
   "outputs": [
    {
     "name": "stdout",
     "output_type": "stream",
     "text": [
      "[(3,)]\n"
     ]
    },
    {
     "data": {
      "text/plain": [
       "3"
      ]
     },
     "execution_count": 15,
     "metadata": {},
     "output_type": "execute_result"
    }
   ],
   "source": [
    "# Cell #14\n",
    "c.execute(\"SELECT id FROM ingredients WHERE name=?\", ('Мука',))\n",
    "results = c.fetchall()\n",
    "print(results)\n",
    "ingredient_id = results[0][0]\n",
    "ingredient_id"
   ]
  },
  {
   "cell_type": "code",
   "execution_count": 16,
   "metadata": {},
   "outputs": [
    {
     "name": "stdout",
     "output_type": "stream",
     "text": [
      "[]\n",
      "0\n"
     ]
    }
   ],
   "source": [
    "# Cell #15\n",
    "c.execute(\"SELECT id FROM ingredients WHERE name=?\", ('Авокадо',))\n",
    "results = c.fetchall()\n",
    "print(results)\n",
    "print(len(results))"
   ]
  },
  {
   "cell_type": "code",
   "execution_count": 17,
   "metadata": {},
   "outputs": [],
   "source": [
    "# Cell #16\n",
    "def getIngredientId(cursor, name):\n",
    "    cursor.execute(\"SELECT id FROM ingredients WHERE name=?\", (name, ))\n",
    "    results = cursor.fetchall()\n",
    "    if(len(results) > 0):\n",
    "        return results[0][0]\n",
    "    else:\n",
    "        cursor.execute(\"INSERT INTO ingredients (name) VALUES (?)\", (name, ))\n",
    "        return getIngredientId(cursor, name)"
   ]
  },
  {
   "cell_type": "code",
   "execution_count": 18,
   "metadata": {},
   "outputs": [],
   "source": [
    "# Cell #17\n",
    "import datetime\n",
    "def supply(cursor, ingredient_name, count, date):\n",
    "    ingredient_id = getIngredientId(cursor, ingredient_name)\n",
    "    cursor.execute(\"INSERT INTO warehouse (ingredient_id, count, date) VALUES (?, ?, ?)\", \n",
    "                       (ingredient_id, count, date.timestamp()))"
   ]
  },
  {
   "cell_type": "code",
   "execution_count": 19,
   "metadata": {},
   "outputs": [
    {
     "data": {
      "text/plain": [
       "[]"
      ]
     },
     "execution_count": 19,
     "metadata": {},
     "output_type": "execute_result"
    }
   ],
   "source": [
    "# Cell #18\n",
    "c.execute(\"DELETE FROM warehouse\");\n",
    "c.execute(\"SELECT * FROM warehouse\")\n",
    "results = c.fetchall()\n",
    "results"
   ]
  },
  {
   "cell_type": "code",
   "execution_count": 20,
   "metadata": {},
   "outputs": [
    {
     "data": {
      "text/plain": [
       "[(1, 'Молоко'),\n",
       " (2, 'Яйцо'),\n",
       " (3, 'Мука'),\n",
       " (4, 'Разрыхлитель'),\n",
       " (5, 'Масло растительное'),\n",
       " (6, 'Сахар'),\n",
       " (7, 'Соль')]"
      ]
     },
     "execution_count": 20,
     "metadata": {},
     "output_type": "execute_result"
    }
   ],
   "source": [
    "# Cell #19\n",
    "c.execute(\"SELECT * FROM ingredients\")\n",
    "results = c.fetchall()\n",
    "results"
   ]
  },
  {
   "cell_type": "code",
   "execution_count": 21,
   "metadata": {},
   "outputs": [],
   "source": [
    "# Cell #20\n",
    "supply(c, 'Мука', 10, datetime.datetime.now())\n",
    "supply(c, 'Авокадо', 10, datetime.datetime.now())"
   ]
  },
  {
   "cell_type": "code",
   "execution_count": 22,
   "metadata": {},
   "outputs": [
    {
     "data": {
      "text/plain": [
       "[('Мука', 10, 1583761968.367144), ('Авокадо', 10, 1583761968.367744)]"
      ]
     },
     "execution_count": 22,
     "metadata": {},
     "output_type": "execute_result"
    }
   ],
   "source": [
    "# Cell #21\n",
    "prettyWarehouse(c)"
   ]
  },
  {
   "cell_type": "code",
   "execution_count": 23,
   "metadata": {},
   "outputs": [
    {
     "data": {
      "text/plain": [
       "[(1, 'Молоко'),\n",
       " (2, 'Яйцо'),\n",
       " (3, 'Мука'),\n",
       " (4, 'Разрыхлитель'),\n",
       " (5, 'Масло растительное'),\n",
       " (6, 'Сахар'),\n",
       " (7, 'Соль'),\n",
       " (8, 'Авокадо')]"
      ]
     },
     "execution_count": 23,
     "metadata": {},
     "output_type": "execute_result"
    }
   ],
   "source": [
    "# Cell #22\n",
    "c.execute(\"SELECT * FROM ingredients\")\n",
    "results = c.fetchall()\n",
    "results"
   ]
  },
  {
   "cell_type": "markdown",
   "metadata": {},
   "source": [
    "# Часть №2"
   ]
  },
  {
   "cell_type": "markdown",
   "metadata": {},
   "source": [
    "#### Хотим таблицу Блюд:\n",
    "   \n",
    "| id | Название            | Ингредиенты |\n",
    "| -- | ------------------- |:-----------:|\n",
    "| 1  | Панкейки            | ?           |\n",
    "| 2  | Буррито             | ?           |\n",
    "| 3  | Овощи по деревенски | ?           |\n",
    "\n",
    "\n",
    "#### Как ее правильно реализовать в реляционных базах данных?\n",
    "\n",
    "###### Таблица Блюд:\n",
    "\n",
    "| id | Название            |\n",
    "| -- | ------------------- |\n",
    "| 1  | Панкейки            |\n",
    "| 2  | Буррито             |\n",
    "| 3  | Овощи по деревенски |\n",
    "\n",
    "###### Таблица Ингредиентов:\n",
    "\n",
    "| id ингредиента | Название |\n",
    "| -- | -------------- |\n",
    "| 5  | Брокколи       |\n",
    "| 7  | Куриное филе   |\n",
    "| 12 | Молоко         |\n",
    "\n",
    "###### Таблица Блюд-Ингредиентов:\n",
    "\n",
    "| id Блюда | id Ингредиента | Количество ингредиентов |\n",
    "| -------- | -------- | -------- |\n",
    "| 1        | 12       | 250 |\n",
    "| 2        | 7       | 50 |\n",
    "| 3        | 5       | 10 |"
   ]
  },
  {
   "cell_type": "code",
   "execution_count": 24,
   "metadata": {},
   "outputs": [],
   "source": [
    "# Cell #23\n",
    "c.execute(\"DELETE FROM ingredients\");\n",
    "c.execute(\"DELETE FROM warehouse\");"
   ]
  },
  {
   "cell_type": "code",
   "execution_count": 25,
   "metadata": {},
   "outputs": [],
   "source": [
    "# Cell #24\n",
    "# Создаем таблицу блюд\n",
    "c.execute('''CREATE TABLE dishes\n",
    "             (id INTEGER PRIMARY KEY, name TEXT, recipe INTEGER)''')\n",
    "\n",
    "# Создаем таблицу для блюд-ингредиетов\n",
    "c.execute('''CREATE TABLE dishes_ingredients\n",
    "             (dish_id INTEGER, ingredient_id INTEGER, ingredient_count INTEGER)''')\n",
    "\n",
    "conn.commit()"
   ]
  },
  {
   "cell_type": "markdown",
   "metadata": {},
   "source": [
    "Напишем функцию для добавления блюд:"
   ]
  },
  {
   "cell_type": "code",
   "execution_count": 26,
   "metadata": {},
   "outputs": [],
   "source": [
    "# Cell #25\n",
    "dishes = {\n",
    "    'Панкейки': {\n",
    "        'Молоко': 210,\n",
    "        'Яйцо': 1,\n",
    "        'Мука': 200,\n",
    "        'Разрыхлитель': 5,\n",
    "        'Масло растительное': 2,\n",
    "        'Сахар': 30,\n",
    "        'Соль': 1\n",
    "    },\n",
    "    \n",
    "    'Буррито': {\n",
    "        'Тортилья': 4,\n",
    "        'Куриное филе': 12,\n",
    "        'Фасоль': 4,\n",
    "        'Кукуруза': 4,\n",
    "        'Помидор': 8,\n",
    "        'Перец': 1,\n",
    "        'Сыр': 200,\n",
    "        'Лук': 4,\n",
    "        'Чеснок': 3,\n",
    "        'Соль': 2\n",
    "    },\n",
    "    \n",
    "    'Овощи по деревенски': {\n",
    "        'Картофель': 16,\n",
    "        'Кабачок': 4,\n",
    "        'Баклажан': 4,\n",
    "        'Сельдерей': 1,\n",
    "        'Помидор': 4,\n",
    "        'Перец': 8,\n",
    "        'Петрушка': 2\n",
    "    }\n",
    "}"
   ]
  },
  {
   "cell_type": "code",
   "execution_count": 27,
   "metadata": {},
   "outputs": [],
   "source": [
    "# Cell #26\n",
    "def getInsertId(cursor, table, name):\n",
    "    cursor.execute(\"SELECT id FROM '%s' WHERE name=?\" % table, (name, ))\n",
    "    results = cursor.fetchall()\n",
    "    if(len(results) > 0):\n",
    "        return results[0][0]\n",
    "    else:\n",
    "        cursor.execute(\"INSERT INTO '%s' (name) VALUES (?)\" % table, (name, ))\n",
    "        return getInsertId(cursor, table, name)"
   ]
  },
  {
   "cell_type": "code",
   "execution_count": 28,
   "metadata": {},
   "outputs": [
    {
     "name": "stdout",
     "output_type": "stream",
     "text": [
      "Молоко: 210\n",
      "Яйцо: 1\n",
      "Мука: 200\n",
      "Разрыхлитель: 5\n",
      "Масло растительное: 2\n",
      "Сахар: 30\n",
      "Соль: 1\n",
      "Тортилья: 4\n",
      "Куриное филе: 12\n",
      "Фасоль: 4\n",
      "Кукуруза: 4\n",
      "Помидор: 8\n",
      "Перец: 1\n",
      "Сыр: 200\n",
      "Лук: 4\n",
      "Чеснок: 3\n",
      "Соль: 2\n",
      "Картофель: 16\n",
      "Кабачок: 4\n",
      "Баклажан: 4\n",
      "Сельдерей: 1\n",
      "Помидор: 4\n",
      "Перец: 8\n",
      "Петрушка: 2\n"
     ]
    }
   ],
   "source": [
    "# Cell #27\n",
    "for dish_name, ingredients in dishes.items():\n",
    "    for ingredient_name, count in ingredients.items():\n",
    "        print(ingredient_name, ': ', count, sep='')"
   ]
  },
  {
   "cell_type": "code",
   "execution_count": 29,
   "metadata": {},
   "outputs": [],
   "source": [
    "# Cell #28\n",
    "for dish_name, ingredients in dishes.items():\n",
    "    for ingredient_name, count in ingredients.items():\n",
    "        ingredient_id = getInsertId(c, 'ingredients', ingredient_name)\n",
    "        dish_id = getInsertId(c, 'dishes', dish_name)\n",
    "        \n",
    "        c.execute(\"INSERT INTO dishes_ingredients (dish_id, ingredient_id, ingredient_count) VALUES (?, ?, ?)\", \n",
    "                       (dish_id, ingredient_id, count))\n"
   ]
  },
  {
   "cell_type": "code",
   "execution_count": 30,
   "metadata": {},
   "outputs": [
    {
     "data": {
      "text/plain": [
       "[('Панкейки', 'Молоко', 210),\n",
       " ('Панкейки', 'Яйцо', 1),\n",
       " ('Панкейки', 'Мука', 200),\n",
       " ('Панкейки', 'Разрыхлитель', 5),\n",
       " ('Панкейки', 'Масло растительное', 2),\n",
       " ('Панкейки', 'Сахар', 30),\n",
       " ('Панкейки', 'Соль', 1),\n",
       " ('Буррито', 'Тортилья', 4),\n",
       " ('Буррито', 'Куриное филе', 12),\n",
       " ('Буррито', 'Фасоль', 4),\n",
       " ('Буррито', 'Кукуруза', 4),\n",
       " ('Буррито', 'Помидор', 8),\n",
       " ('Буррито', 'Перец', 1),\n",
       " ('Буррито', 'Сыр', 200),\n",
       " ('Буррито', 'Лук', 4),\n",
       " ('Буррито', 'Чеснок', 3),\n",
       " ('Буррито', 'Соль', 2),\n",
       " ('Овощи по деревенски', 'Картофель', 16),\n",
       " ('Овощи по деревенски', 'Кабачок', 4),\n",
       " ('Овощи по деревенски', 'Баклажан', 4),\n",
       " ('Овощи по деревенски', 'Сельдерей', 1),\n",
       " ('Овощи по деревенски', 'Помидор', 4),\n",
       " ('Овощи по деревенски', 'Перец', 8),\n",
       " ('Овощи по деревенски', 'Петрушка', 2)]"
      ]
     },
     "execution_count": 30,
     "metadata": {},
     "output_type": "execute_result"
    }
   ],
   "source": [
    "# Cell #29\n",
    "c.execute(\"\"\"SELECT dishes.name, ingredients.name, ingredient_count FROM dishes_ingredients \n",
    "          JOIN dishes ON dish_id = dishes.id\n",
    "          JOIN ingredients ON ingredient_id = ingredients.id\"\"\")\n",
    "results = c.fetchall()\n",
    "results"
   ]
  },
  {
   "cell_type": "code",
   "execution_count": 31,
   "metadata": {},
   "outputs": [],
   "source": [
    "# Cell #30\n",
    "# Создаем таблицу для плана блюд\n",
    "c.execute('''CREATE TABLE dish_plan\n",
    "             (dish_id INTEGER, count INTEGER)''')\n",
    "\n",
    "c.execute(\"INSERT INTO dish_plan (dish_id, count) VALUES (1, 30)\")\n",
    "c.execute(\"INSERT INTO dish_plan (dish_id, count) VALUES (2, 50)\")\n",
    "c.execute(\"INSERT INTO dish_plan (dish_id, count) VALUES (3, 70)\")\n",
    "\n",
    "conn.commit()"
   ]
  },
  {
   "cell_type": "code",
   "execution_count": 32,
   "metadata": {},
   "outputs": [
    {
     "data": {
      "text/plain": [
       "[('Панкейки', 'Молоко', 210, 30, 6300),\n",
       " ('Панкейки', 'Яйцо', 1, 30, 30),\n",
       " ('Панкейки', 'Мука', 200, 30, 6000),\n",
       " ('Панкейки', 'Разрыхлитель', 5, 30, 150),\n",
       " ('Панкейки', 'Масло растительное', 2, 30, 60),\n",
       " ('Панкейки', 'Сахар', 30, 30, 900),\n",
       " ('Панкейки', 'Соль', 1, 30, 30),\n",
       " ('Буррито', 'Тортилья', 4, 50, 200),\n",
       " ('Буррито', 'Куриное филе', 12, 50, 600),\n",
       " ('Буррито', 'Фасоль', 4, 50, 200),\n",
       " ('Буррито', 'Кукуруза', 4, 50, 200),\n",
       " ('Буррито', 'Помидор', 8, 50, 400),\n",
       " ('Буррито', 'Перец', 1, 50, 50),\n",
       " ('Буррито', 'Сыр', 200, 50, 10000),\n",
       " ('Буррито', 'Лук', 4, 50, 200),\n",
       " ('Буррито', 'Чеснок', 3, 50, 150),\n",
       " ('Буррито', 'Соль', 2, 50, 100),\n",
       " ('Овощи по деревенски', 'Картофель', 16, 70, 1120),\n",
       " ('Овощи по деревенски', 'Кабачок', 4, 70, 280),\n",
       " ('Овощи по деревенски', 'Баклажан', 4, 70, 280),\n",
       " ('Овощи по деревенски', 'Сельдерей', 1, 70, 70),\n",
       " ('Овощи по деревенски', 'Помидор', 4, 70, 280),\n",
       " ('Овощи по деревенски', 'Перец', 8, 70, 560),\n",
       " ('Овощи по деревенски', 'Петрушка', 2, 70, 140)]"
      ]
     },
     "execution_count": 32,
     "metadata": {},
     "output_type": "execute_result"
    }
   ],
   "source": [
    "# Cell #31\n",
    "c.execute(\"\"\"SELECT dishes.name, ingredients.name, ingredient_count, dish_plan.count,\n",
    "            ingredient_count*dish_plan.count FROM dishes_ingredients \n",
    "          JOIN dishes ON dishes_ingredients.dish_id = dishes.id\n",
    "          JOIN ingredients ON ingredient_id = ingredients.id\n",
    "          JOIN dish_plan ON dish_plan.dish_id = dishes.id\"\"\")\n",
    "results = c.fetchall()\n",
    "results"
   ]
  },
  {
   "cell_type": "code",
   "execution_count": 33,
   "metadata": {},
   "outputs": [
    {
     "data": {
      "text/plain": [
       "[('Баклажан', 280),\n",
       " ('Кабачок', 280),\n",
       " ('Картофель', 1120),\n",
       " ('Кукуруза', 200),\n",
       " ('Куриное филе', 600),\n",
       " ('Лук', 200),\n",
       " ('Масло растительное', 60),\n",
       " ('Молоко', 6300),\n",
       " ('Мука', 6000),\n",
       " ('Перец', 610),\n",
       " ('Петрушка', 140),\n",
       " ('Помидор', 680),\n",
       " ('Разрыхлитель', 150),\n",
       " ('Сахар', 900),\n",
       " ('Сельдерей', 70),\n",
       " ('Соль', 130),\n",
       " ('Сыр', 10000),\n",
       " ('Тортилья', 200),\n",
       " ('Фасоль', 200),\n",
       " ('Чеснок', 150),\n",
       " ('Яйцо', 30)]"
      ]
     },
     "execution_count": 33,
     "metadata": {},
     "output_type": "execute_result"
    }
   ],
   "source": [
    "# Cell #32\n",
    "c.execute(\"\"\"SELECT ingredients.name, SUM(ingredient_count*dish_plan.count) FROM dishes_ingredients \n",
    "          JOIN dishes ON dishes_ingredients.dish_id = dishes.id\n",
    "          JOIN ingredients ON ingredient_id = ingredients.id\n",
    "          JOIN dish_plan ON dish_plan.dish_id = dishes.id\n",
    "          GROUP BY ingredients.name\"\"\")\n",
    "results = c.fetchall()\n",
    "results"
   ]
  },
  {
   "cell_type": "code",
   "execution_count": 34,
   "metadata": {},
   "outputs": [],
   "source": [
    "# Cell #33\n",
    "c.execute(\"SELECT id FROM ingredients\")\n",
    "results = c.fetchall()\n",
    "ids = list(map(lambda it: it[0], results))\n",
    "for i in range(1, 28):\n",
    "    count = random.randint(10, 100)\n",
    "    date = datetime.datetime(2019, 11, i, hour=random.randint(12, 18), minute=random.randint(0, 59), second=0, microsecond=0, tzinfo=None)\n",
    "    ingredient = random.choice(ids)\n",
    "    c.execute(\"INSERT INTO warehouse (ingredient_id, count, date) VALUES (?, ?, ?)\", (ingredient, count, date.timestamp()))"
   ]
  },
  {
   "cell_type": "code",
   "execution_count": 35,
   "metadata": {},
   "outputs": [
    {
     "data": {
      "text/plain": [
       "[('Картофель', 56),\n",
       " ('Кукуруза', 248),\n",
       " ('Лук', 117),\n",
       " ('Молоко', 161),\n",
       " ('Мука', 159),\n",
       " ('Петрушка', 163),\n",
       " ('Сахар', 128),\n",
       " ('Соль', 293),\n",
       " ('Сыр', 72),\n",
       " ('Фасоль', 126)]"
      ]
     },
     "execution_count": 35,
     "metadata": {},
     "output_type": "execute_result"
    }
   ],
   "source": [
    "# Cell #34\n",
    "def inWarehouse(cursor):\n",
    "    cursor.execute(\"\"\"SELECT name, SUM(count) FROM warehouse \n",
    "          JOIN ingredients WHERE warehouse.ingredient_id = ingredients.id\n",
    "          GROUP BY name\"\"\")\n",
    "    return cursor.fetchall()\n",
    "    \n",
    "inWarehouse(c)"
   ]
  },
  {
   "cell_type": "code",
   "execution_count": 36,
   "metadata": {},
   "outputs": [
    {
     "data": {
      "text/plain": [
       "[('Картофель', 56, 1120, -1064),\n",
       " ('Кукуруза', 248, 200, 48),\n",
       " ('Лук', 117, 200, -83),\n",
       " ('Молоко', 161, 6300, -6139),\n",
       " ('Мука', 159, 6000, -5841),\n",
       " ('Петрушка', 163, 140, 23),\n",
       " ('Сахар', 128, 900, -772),\n",
       " ('Соль', 293, 130, 163),\n",
       " ('Сыр', 72, 10000, -9928),\n",
       " ('Фасоль', 126, 200, -74)]"
      ]
     },
     "execution_count": 36,
     "metadata": {},
     "output_type": "execute_result"
    }
   ],
   "source": [
    "# Cell #35\n",
    "c.execute(\"\"\" \n",
    "        SELECT name_plan, count_warehouse, count_plan, count_warehouse-count_plan FROM\n",
    "        (SELECT name as name_warehouse, SUM(count) as count_warehouse FROM warehouse \n",
    "          JOIN ingredients WHERE warehouse.ingredient_id = ingredients.id\n",
    "          GROUP BY name)\n",
    "\n",
    "        JOIN (\n",
    "            SELECT ingredients.name as name_plan, \n",
    "            SUM(ingredient_count*dish_plan.count) as count_plan\n",
    "            FROM dishes_ingredients \n",
    "            JOIN dishes ON dishes_ingredients.dish_id = dishes.id\n",
    "            JOIN ingredients ON ingredient_id = ingredients.id\n",
    "            JOIN dish_plan ON dish_plan.dish_id = dishes.id\n",
    "            GROUP BY ingredients.name\n",
    "        ) ON name_warehouse = name_plan \"\"\")\n",
    "results = c.fetchall()\n",
    "results"
   ]
  },
  {
   "cell_type": "code",
   "execution_count": 37,
   "metadata": {},
   "outputs": [
    {
     "data": {
      "text/plain": [
       "[('Мука', 46, 1572623820.0),\n",
       " ('Молоко', 91, 1572699600.0),\n",
       " ('Соль', 32, 1572775080.0),\n",
       " ('Петрушка', 93, 1572875880.0),\n",
       " ('Лук', 52, 1572963120.0),\n",
       " ('Молоко', 70, 1573032300.0),\n",
       " ('Кукуруза', 46, 1573128480.0),\n",
       " ('Мука', 14, 1573226040.0),\n",
       " ('Кукуруза', 51, 1573309320.0),\n",
       " ('Сыр', 72, 1573392600.0),\n",
       " ('Кукуруза', 53, 1573485060.0),\n",
       " ('Соль', 97, 1573554300.0),\n",
       " ('Фасоль', 74, 1573644360.0),\n",
       " ('Сахар', 72, 1573726260.0),\n",
       " ('Соль', 78, 1573826160.0),\n",
       " ('Кукуруза', 98, 1573902420.0),\n",
       " ('Фасоль', 52, 1573998780.0),\n",
       " ('Соль', 11, 1574069340.0),\n",
       " ('Петрушка', 25, 1574154060.0),\n",
       " ('Соль', 15, 1574253840.0),\n",
       " ('Сахар', 15, 1574348520.0),\n",
       " ('Соль', 60, 1574428680.0),\n",
       " ('Мука', 99, 1574520660.0),\n",
       " ('Сахар', 41, 1574597220.0),\n",
       " ('Картофель', 56, 1574695380.0),\n",
       " ('Лук', 65, 1574769480.0),\n",
       " ('Петрушка', 45, 1574860980.0),\n",
       " ('Морепродукты', 10, 1583761970.674404)]"
      ]
     },
     "execution_count": 37,
     "metadata": {},
     "output_type": "execute_result"
    }
   ],
   "source": [
    "# Cell #36\n",
    "supply(c, 'Морепродукты', 10, datetime.datetime.now())\n",
    "prettyWarehouse(c)"
   ]
  },
  {
   "cell_type": "code",
   "execution_count": 38,
   "metadata": {},
   "outputs": [
    {
     "data": {
      "text/plain": [
       "[('Морепродукты',)]"
      ]
     },
     "execution_count": 38,
     "metadata": {},
     "output_type": "execute_result"
    }
   ],
   "source": [
    "# Cell #37\n",
    "c.execute(\"\"\"SELECT name FROM warehouse JOIN ingredients ON warehouse.ingredient_id = ingredients.id\n",
    "            \n",
    "            EXCEPT\n",
    "            \n",
    "            SELECT ingredients.name FROM dishes_ingredients \n",
    "            JOIN dishes ON dish_id = dishes.id\n",
    "            JOIN ingredients ON ingredient_id = ingredients.id\n",
    "            \n",
    "        \"\"\")\n",
    "results = c.fetchall()\n",
    "results"
   ]
  },
  {
   "cell_type": "markdown",
   "metadata": {},
   "source": [
    "## Подсказки к домашнему заданию"
   ]
  },
  {
   "cell_type": "code",
   "execution_count": 39,
   "metadata": {},
   "outputs": [
    {
     "data": {
      "text/plain": [
       "[(30, 3, 46, 1572623820.0),\n",
       " (31, 1, 91, 1572699600.0),\n",
       " (32, 7, 32, 1572775080.0),\n",
       " (33, 21, 93, 1572875880.0),\n",
       " (34, 15, 52, 1572963120.0),\n",
       " (35, 1, 70, 1573032300.0),\n",
       " (36, 11, 46, 1573128480.0),\n",
       " (37, 3, 14, 1573226040.0),\n",
       " (38, 11, 51, 1573309320.0),\n",
       " (39, 14, 72, 1573392600.0),\n",
       " (40, 11, 53, 1573485060.0),\n",
       " (41, 7, 97, 1573554300.0),\n",
       " (42, 10, 74, 1573644360.0),\n",
       " (43, 6, 72, 1573726260.0),\n",
       " (44, 7, 78, 1573826160.0),\n",
       " (45, 11, 98, 1573902420.0),\n",
       " (46, 10, 52, 1573998780.0),\n",
       " (47, 7, 11, 1574069340.0),\n",
       " (48, 21, 25, 1574154060.0),\n",
       " (49, 7, 15, 1574253840.0),\n",
       " (50, 6, 15, 1574348520.0),\n",
       " (51, 7, 60, 1574428680.0),\n",
       " (52, 3, 99, 1574520660.0),\n",
       " (53, 6, 41, 1574597220.0),\n",
       " (54, 17, 56, 1574695380.0),\n",
       " (55, 15, 65, 1574769480.0),\n",
       " (56, 21, 45, 1574860980.0),\n",
       " (57, 22, 10, 1583761970.674404)]"
      ]
     },
     "execution_count": 39,
     "metadata": {},
     "output_type": "execute_result"
    }
   ],
   "source": [
    "# Cell #38\n",
    "c.execute(\"SELECT * FROM warehouse ORDER BY date\")\n",
    "results = c.fetchall()\n",
    "results"
   ]
  },
  {
   "cell_type": "code",
   "execution_count": 40,
   "metadata": {},
   "outputs": [
    {
     "data": {
      "text/plain": [
       "[('Мука', 46, '2019-11-01 18:57:00'),\n",
       " ('Молоко', 91, '2019-11-02 16:00:00'),\n",
       " ('Соль', 32, '2019-11-03 12:58:00'),\n",
       " ('Петрушка', 93, '2019-11-04 16:58:00'),\n",
       " ('Лук', 52, '2019-11-05 17:12:00'),\n",
       " ('Молоко', 70, '2019-11-06 12:25:00'),\n",
       " ('Кукуруза', 46, '2019-11-07 15:08:00'),\n",
       " ('Мука', 14, '2019-11-08 18:14:00'),\n",
       " ('Кукуруза', 51, '2019-11-09 17:22:00'),\n",
       " ('Сыр', 72, '2019-11-10 16:30:00'),\n",
       " ('Кукуруза', 53, '2019-11-11 18:11:00'),\n",
       " ('Соль', 97, '2019-11-12 13:25:00'),\n",
       " ('Фасоль', 74, '2019-11-13 14:26:00'),\n",
       " ('Сахар', 72, '2019-11-14 13:11:00'),\n",
       " ('Соль', 78, '2019-11-15 16:56:00'),\n",
       " ('Кукуруза', 98, '2019-11-16 14:07:00'),\n",
       " ('Фасоль', 52, '2019-11-17 16:53:00'),\n",
       " ('Соль', 11, '2019-11-18 12:29:00'),\n",
       " ('Петрушка', 25, '2019-11-19 12:01:00'),\n",
       " ('Соль', 15, '2019-11-20 15:44:00'),\n",
       " ('Сахар', 15, '2019-11-21 18:02:00'),\n",
       " ('Соль', 60, '2019-11-22 16:18:00'),\n",
       " ('Мука', 99, '2019-11-23 17:51:00'),\n",
       " ('Сахар', 41, '2019-11-24 15:07:00'),\n",
       " ('Картофель', 56, '2019-11-25 18:23:00'),\n",
       " ('Лук', 65, '2019-11-26 14:58:00'),\n",
       " ('Петрушка', 45, '2019-11-27 16:23:00'),\n",
       " ('Морепродукты', 10, '2020-03-09 16:52:50')]"
      ]
     },
     "execution_count": 40,
     "metadata": {},
     "output_type": "execute_result"
    }
   ],
   "source": [
    "# Cell #39\n",
    "c.execute(\"\"\"SELECT name, count, date FROM warehouse \n",
    "          JOIN ingredients ON warehouse.ingredient_id = ingredients.id\n",
    "          ORDER BY date\"\"\")\n",
    "results = c.fetchall()\n",
    "list(map(lambda it: (it[0], it[1], datetime.datetime.fromtimestamp(it[2]).strftime(\"%Y-%m-%d %H:%M:%S\"))\n",
    "         , results))"
   ]
  },
  {
   "cell_type": "code",
   "execution_count": 41,
   "metadata": {},
   "outputs": [
    {
     "data": {
      "text/plain": [
       "[('Картофель', 56),\n",
       " ('Кукуруза', 248),\n",
       " ('Лук', 117),\n",
       " ('Молоко', 161),\n",
       " ('Морепродукты', 10),\n",
       " ('Мука', 159),\n",
       " ('Петрушка', 163),\n",
       " ('Сахар', 128),\n",
       " ('Соль', 293),\n",
       " ('Сыр', 72),\n",
       " ('Фасоль', 126)]"
      ]
     },
     "execution_count": 41,
     "metadata": {},
     "output_type": "execute_result"
    }
   ],
   "source": [
    "# Cell #40 \n",
    "inWarehouse(c)"
   ]
  },
  {
   "cell_type": "code",
   "execution_count": 42,
   "metadata": {},
   "outputs": [
    {
     "data": {
      "text/plain": [
       "[(30, 46, 'Мука'),\n",
       " (31, 91, 'Молоко'),\n",
       " (32, 32, 'Соль'),\n",
       " (33, 93, 'Петрушка'),\n",
       " (34, 52, 'Лук'),\n",
       " (35, 70, 'Молоко'),\n",
       " (36, 46, 'Кукуруза'),\n",
       " (37, 14, 'Мука'),\n",
       " (38, 51, 'Кукуруза'),\n",
       " (39, 72, 'Сыр'),\n",
       " (40, 53, 'Кукуруза'),\n",
       " (41, 97, 'Соль'),\n",
       " (42, 74, 'Фасоль'),\n",
       " (43, 72, 'Сахар'),\n",
       " (44, 78, 'Соль'),\n",
       " (45, 98, 'Кукуруза'),\n",
       " (46, 52, 'Фасоль'),\n",
       " (47, 11, 'Соль'),\n",
       " (48, 25, 'Петрушка'),\n",
       " (49, 15, 'Соль'),\n",
       " (50, 15, 'Сахар'),\n",
       " (51, 60, 'Соль'),\n",
       " (52, 99, 'Мука'),\n",
       " (53, 41, 'Сахар'),\n",
       " (54, 56, 'Картофель'),\n",
       " (55, 65, 'Лук'),\n",
       " (56, 45, 'Петрушка'),\n",
       " (57, 10, 'Морепродукты')]"
      ]
     },
     "execution_count": 42,
     "metadata": {},
     "output_type": "execute_result"
    }
   ],
   "source": [
    "# Cell #41\n",
    "c.execute(\"\"\"SELECT warehouse.id, count, name FROM warehouse \n",
    "          JOIN ingredients ON ingredients.id = warehouse.ingredient_id\"\"\")\n",
    "results = c.fetchall()\n",
    "results"
   ]
  },
  {
   "cell_type": "code",
   "execution_count": 43,
   "metadata": {},
   "outputs": [
    {
     "data": {
      "text/plain": [
       "[('Мука', 46, 1572623820.0),\n",
       " ('Молоко', 5, 1572699600.0),\n",
       " ('Соль', 32, 1572775080.0),\n",
       " ('Петрушка', 93, 1572875880.0),\n",
       " ('Лук', 52, 1572963120.0),\n",
       " ('Молоко', 70, 1573032300.0),\n",
       " ('Кукуруза', 46, 1573128480.0),\n",
       " ('Мука', 14, 1573226040.0),\n",
       " ('Кукуруза', 51, 1573309320.0),\n",
       " ('Сыр', 72, 1573392600.0),\n",
       " ('Кукуруза', 53, 1573485060.0),\n",
       " ('Соль', 97, 1573554300.0),\n",
       " ('Фасоль', 74, 1573644360.0),\n",
       " ('Сахар', 72, 1573726260.0),\n",
       " ('Соль', 78, 1573826160.0),\n",
       " ('Кукуруза', 98, 1573902420.0),\n",
       " ('Фасоль', 52, 1573998780.0),\n",
       " ('Соль', 11, 1574069340.0),\n",
       " ('Петрушка', 25, 1574154060.0),\n",
       " ('Соль', 15, 1574253840.0),\n",
       " ('Сахар', 15, 1574348520.0),\n",
       " ('Соль', 60, 1574428680.0),\n",
       " ('Мука', 99, 1574520660.0),\n",
       " ('Сахар', 41, 1574597220.0),\n",
       " ('Картофель', 56, 1574695380.0),\n",
       " ('Лук', 65, 1574769480.0),\n",
       " ('Петрушка', 45, 1574860980.0),\n",
       " ('Морепродукты', 10, 1583761970.674404)]"
      ]
     },
     "execution_count": 43,
     "metadata": {},
     "output_type": "execute_result"
    }
   ],
   "source": [
    "# Cell #42\n",
    "c.execute(\"UPDATE warehouse SET count = 5 WHERE id=31\")\n",
    "prettyWarehouse(c)"
   ]
  },
  {
   "cell_type": "code",
   "execution_count": 44,
   "metadata": {},
   "outputs": [
    {
     "data": {
      "text/plain": [
       "[('Картофель', 56),\n",
       " ('Кукуруза', 248),\n",
       " ('Лук', 117),\n",
       " ('Молоко', 75),\n",
       " ('Морепродукты', 10),\n",
       " ('Мука', 159),\n",
       " ('Петрушка', 163),\n",
       " ('Сахар', 128),\n",
       " ('Соль', 293),\n",
       " ('Сыр', 72),\n",
       " ('Фасоль', 126)]"
      ]
     },
     "execution_count": 44,
     "metadata": {},
     "output_type": "execute_result"
    }
   ],
   "source": [
    "# Cell #43\n",
    "inWarehouse(c)"
   ]
  },
  {
   "cell_type": "code",
   "execution_count": 45,
   "metadata": {},
   "outputs": [],
   "source": [
    "# Cell #44\n",
    "\n",
    "# We can also close the connection if we are done with it.\n",
    "# Just be sure any changes have been committed or they will be lost.\n",
    "conn.close()"
   ]
  },
  {
   "cell_type": "markdown",
   "metadata": {},
   "source": [
    "1. Создать таблицу меню, с указанием цен для каждого блюда\n",
    "2. Создать таблицу чеков, с указанием какие блюда были проданы\n",
    "3. Создать функцию, которая бы принимала на вход заказ блюд и создавала в бд соответствующий чек и убирала ингредиенты на складе (которые использовались при приготовлении этих блюд)\n",
    "4. Создать функцию для подсчета выручки (за день/месяц/за всю жизнь)\n",
    "5. По желанию - продумать архитектуру, чтобы можно было считать прибыль"
   ]
  },
  {
   "cell_type": "code",
   "execution_count": null,
   "metadata": {},
   "outputs": [],
   "source": []
  }
 ],
 "metadata": {
  "kernelspec": {
   "display_name": "Python 3",
   "language": "python",
   "name": "python3"
  },
  "language_info": {
   "codemirror_mode": {
    "name": "ipython",
    "version": 3
   },
   "file_extension": ".py",
   "mimetype": "text/x-python",
   "name": "python",
   "nbconvert_exporter": "python",
   "pygments_lexer": "ipython3",
   "version": "3.7.3"
  }
 },
 "nbformat": 4,
 "nbformat_minor": 2
}
